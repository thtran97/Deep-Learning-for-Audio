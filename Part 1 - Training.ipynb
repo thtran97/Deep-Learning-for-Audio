{
 "cells": [
  {
   "cell_type": "code",
   "execution_count": 1,
   "metadata": {},
   "outputs": [
    {
     "data": {
      "text/plain": [
       "device(type='cpu')"
      ]
     },
     "execution_count": 1,
     "metadata": {},
     "output_type": "execute_result"
    }
   ],
   "source": [
    "import torch\n",
    "from torch import nn, optim\n",
    "from jcopdl.callback import Callback, set_config\n",
    "\n",
    "device = torch.device(\"cuda:0\" if torch.cuda.is_available() else \"cpu\")\n",
    "device"
   ]
  },
  {
   "cell_type": "markdown",
   "metadata": {},
   "source": [
    "# Dataset & Dataloader"
   ]
  },
  {
   "cell_type": "code",
   "execution_count": 2,
   "metadata": {},
   "outputs": [],
   "source": [
    "from src.dataset import VCTKTripletDataset, VCTKTripletDataloader\n",
    "from torch.utils.data import DataLoader"
   ]
  },
  {
   "cell_type": "code",
   "execution_count": 3,
   "metadata": {
    "scrolled": true
   },
   "outputs": [
    {
     "data": {
      "application/vnd.jupyter.widget-view+json": {
       "model_id": "5bc822804e4c48fd997474f7905d2ea9",
       "version_major": 2,
       "version_minor": 0
      },
      "text/plain": [
       "HBox(children=(FloatProgress(value=0.0, description='Sample Data', max=3000.0, style=ProgressStyle(description…"
      ]
     },
     "metadata": {},
     "output_type": "display_data"
    },
    {
     "name": "stdout",
     "output_type": "stream",
     "text": [
      "\n",
      "Excluding 6 triplet containing audio shorter than 1.5s\n"
     ]
    },
    {
     "data": {
      "application/vnd.jupyter.widget-view+json": {
       "model_id": "7e76e5bc68a24d48880aa551c8f2b4c0",
       "version_major": 2,
       "version_minor": 0
      },
      "text/plain": [
       "HBox(children=(FloatProgress(value=0.0, description='Sample Data', max=3000.0, style=ProgressStyle(description…"
      ]
     },
     "metadata": {},
     "output_type": "display_data"
    },
    {
     "name": "stdout",
     "output_type": "stream",
     "text": [
      "\n",
      "Excluding 3 triplet containing audio shorter than 1.5s\n"
     ]
    }
   ],
   "source": [
    "bs = 32\n",
    "\n",
    "train_set = VCTKTripletDataset(\"vctk_dataset/wav48/\", \"vctk_dataset/txt/\", n_data=3000, min_dur=1.5)\n",
    "trainloader = VCTKTripletDataloader(train_set, batch_size=bs)\n",
    "\n",
    "test_set = VCTKTripletDataset(\"vctk_dataset/wav48/\", \"vctk_dataset/txt/\", n_data=3000, min_dur=1.5)\n",
    "testloader = VCTKTripletDataloader(test_set, batch_size=bs)"
   ]
  },
  {
   "cell_type": "markdown",
   "metadata": {},
   "source": [
    "# Architecture & Config"
   ]
  },
  {
   "cell_type": "code",
   "execution_count": 4,
   "metadata": {},
   "outputs": [],
   "source": [
    "from src.model import Encoder"
   ]
  },
  {
   "cell_type": "code",
   "execution_count": 5,
   "metadata": {},
   "outputs": [],
   "source": [
    "config = set_config({\n",
    "    \"ndim\": 512,\n",
    "    \"margin\": 1,\n",
    "    \"sr\": train_set.sr,\n",
    "    \"n_mfcc\": train_set.n_mfcc,\n",
    "    \"min_dur\": train_set.min_dur\n",
    "})"
   ]
  },
  {
   "cell_type": "markdown",
   "metadata": {},
   "source": [
    "# Training Preparation"
   ]
  },
  {
   "cell_type": "code",
   "execution_count": 6,
   "metadata": {},
   "outputs": [],
   "source": [
    "from jcopdl.optim import RangerLARS"
   ]
  },
  {
   "cell_type": "code",
   "execution_count": 7,
   "metadata": {},
   "outputs": [],
   "source": [
    "model = Encoder(ndim=config.ndim, triplet=True).to(device)\n",
    "criterion = nn.TripletMarginLoss(config.margin)\n",
    "callback = Callback(model, config, outdir=\"model_vctk\", early_stop_patience=15)\n",
    "optimizer = RangerLARS(model.parameters(), lr=0.001)"
   ]
  },
  {
   "cell_type": "markdown",
   "metadata": {},
   "source": [
    "# Training"
   ]
  },
  {
   "cell_type": "code",
   "execution_count": 8,
   "metadata": {},
   "outputs": [],
   "source": [
    "from tqdm.auto import tqdm"
   ]
  },
  {
   "cell_type": "code",
   "execution_count": null,
   "metadata": {},
   "outputs": [
    {
     "data": {
      "application/vnd.jupyter.widget-view+json": {
       "model_id": "70e1fc7f42364990b9dc346c4b3e6b5e",
       "version_major": 2,
       "version_minor": 0
      },
      "text/plain": [
       "HBox(children=(FloatProgress(value=0.0, description='Train', max=94.0, style=ProgressStyle(description_width='…"
      ]
     },
     "metadata": {},
     "output_type": "display_data"
    }
   ],
   "source": [
    "while True:\n",
    "    if callback.ckpt.epoch % 15 == 0:\n",
    "        train_set = VCTKTripletDataset(\"vctk_dataset/wav48/\", \"vctk_dataset/txt/\", n_data=3000)\n",
    "        trainloader = VCTKTripletDataloader(train_set, batch_size=bs)\n",
    "    \n",
    "    model.train()\n",
    "    cost = 0\n",
    "    for images, labels in tqdm(trainloader, desc=\"Train\"):\n",
    "        images = images.to(device)\n",
    "        \n",
    "        output = model(images)\n",
    "        loss = criterion(output[0], output[1], output[2])\n",
    "        loss.backward()\n",
    "\n",
    "        optimizer.step()\n",
    "        optimizer.zero_grad()\n",
    "        \n",
    "        cost += loss.item()*images.shape[0]\n",
    "    train_cost = cost/len(train_set)\n",
    "    \n",
    "    with torch.no_grad():\n",
    "        model.eval()\n",
    "        cost = 0\n",
    "        for images, labels in tqdm(testloader, desc=\"Test\"):\n",
    "            images = images.to(device)\n",
    "        \n",
    "            output = model(images)\n",
    "            loss = criterion(output[0], output[1], output[2])\n",
    "            \n",
    "            cost += loss.item()*images.shape[0]\n",
    "        test_cost = cost/len(test_set)\n",
    "\n",
    "    # Logging\n",
    "    callback.log(train_cost, test_cost)\n",
    "\n",
    "    # Checkpoint\n",
    "    callback.save_checkpoint()\n",
    "        \n",
    "    # Runtime Plotting\n",
    "    callback.cost_runtime_plotting()\n",
    "    \n",
    "    # Early Stopping\n",
    "    if callback.early_stopping(model, monitor=\"test_cost\"):\n",
    "        callback.plot_cost()\n",
    "        break"
   ]
  }
 ],
 "metadata": {
  "kernelspec": {
   "display_name": "Python 3",
   "language": "python",
   "name": "python3"
  },
  "language_info": {
   "codemirror_mode": {
    "name": "ipython",
    "version": 3
   },
   "file_extension": ".py",
   "mimetype": "text/x-python",
   "name": "python",
   "nbconvert_exporter": "python",
   "pygments_lexer": "ipython3",
   "version": "3.6.9"
  }
 },
 "nbformat": 4,
 "nbformat_minor": 2
}
