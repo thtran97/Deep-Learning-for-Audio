{
 "cells": [
  {
   "cell_type": "code",
   "execution_count": 1,
   "metadata": {},
   "outputs": [
    {
     "name": "stderr",
     "output_type": "stream",
     "text": [
      "/home/renault/env/lib/python3.5/site-packages/tensorboard/compat/tensorflow_stub/dtypes.py:541: FutureWarning: Passing (type, 1) or '1type' as a synonym of type is deprecated; in a future version of numpy, it will be understood as (type, (1,)) / '(1,)type'.\n",
      "  _np_qint8 = np.dtype([(\"qint8\", np.int8, 1)])\n",
      "/home/renault/env/lib/python3.5/site-packages/tensorboard/compat/tensorflow_stub/dtypes.py:542: FutureWarning: Passing (type, 1) or '1type' as a synonym of type is deprecated; in a future version of numpy, it will be understood as (type, (1,)) / '(1,)type'.\n",
      "  _np_quint8 = np.dtype([(\"quint8\", np.uint8, 1)])\n",
      "/home/renault/env/lib/python3.5/site-packages/tensorboard/compat/tensorflow_stub/dtypes.py:543: FutureWarning: Passing (type, 1) or '1type' as a synonym of type is deprecated; in a future version of numpy, it will be understood as (type, (1,)) / '(1,)type'.\n",
      "  _np_qint16 = np.dtype([(\"qint16\", np.int16, 1)])\n",
      "/home/renault/env/lib/python3.5/site-packages/tensorboard/compat/tensorflow_stub/dtypes.py:544: FutureWarning: Passing (type, 1) or '1type' as a synonym of type is deprecated; in a future version of numpy, it will be understood as (type, (1,)) / '(1,)type'.\n",
      "  _np_quint16 = np.dtype([(\"quint16\", np.uint16, 1)])\n",
      "/home/renault/env/lib/python3.5/site-packages/tensorboard/compat/tensorflow_stub/dtypes.py:545: FutureWarning: Passing (type, 1) or '1type' as a synonym of type is deprecated; in a future version of numpy, it will be understood as (type, (1,)) / '(1,)type'.\n",
      "  _np_qint32 = np.dtype([(\"qint32\", np.int32, 1)])\n",
      "/home/renault/env/lib/python3.5/site-packages/tensorboard/compat/tensorflow_stub/dtypes.py:550: FutureWarning: Passing (type, 1) or '1type' as a synonym of type is deprecated; in a future version of numpy, it will be understood as (type, (1,)) / '(1,)type'.\n",
      "  np_resource = np.dtype([(\"resource\", np.ubyte, 1)])\n"
     ]
    }
   ],
   "source": [
    "import numpy as np\n",
    "np.random.seed(1001)\n",
    "\n",
    "import os\n",
    "import sys\n",
    "import shutil\n",
    "\n",
    "import IPython\n",
    "import IPython.display as ipd  # To play sound in the notebook\n",
    "\n",
    "import matplotlib\n",
    "import matplotlib.pyplot as plt\n",
    "import pandas as pd\n",
    "import seaborn as sns\n",
    "# from tqdm import tqdm_notebook, tqdm\n",
    "import tqdm\n",
    "\n",
    "import librosa \n",
    "import wave\n",
    "\n",
    "import torch \n",
    "import torchaudio\n",
    "from torch.utils.data import Dataset, DataLoader\n",
    "from torch.utils.data.dataset import random_split\n",
    "\n",
    "from torch.autograd import Variable\n",
    "import torch.nn.functional as F\n",
    "from torch.nn import Linear, ReLU, CrossEntropyLoss, Sequential, Conv1d, MaxPool1d, Module, AdaptiveMaxPool1d\n",
    "from torch.nn import Softmax, LogSoftmax, BatchNorm1d, Dropout, Flatten\n",
    "from torch.nn import CrossEntropyLoss\n",
    "from torch.optim import Adam, SGD\n",
    "\n",
    "from torch.utils.tensorboard import SummaryWriter\n",
    "\n",
    "\n",
    "dataset_path = '/home/renault/Projects/Statet-of-the-Art/Dataset/freesound-audio-tagging/'"
   ]
  },
  {
   "cell_type": "markdown",
   "metadata": {},
   "source": [
    "## 1. Exploratory Data Analysis"
   ]
  },
  {
   "cell_type": "markdown",
   "metadata": {},
   "source": [
    "### Load data"
   ]
  },
  {
   "cell_type": "code",
   "execution_count": 2,
   "metadata": {},
   "outputs": [],
   "source": [
    "# ## load dataset and save as dataframe\n",
    "# train = pd.read_csv(os.path.join(dataset_path,\"train.csv\"))\n",
    "# test = pd.read_csv(os.path.join(dataset_path,\"test_post_competition.csv\"))"
   ]
  },
  {
   "cell_type": "code",
   "execution_count": 3,
   "metadata": {},
   "outputs": [],
   "source": [
    "# print(\"Number of training examples=\", train.shape[0], \"  Number of classes in training set=\", len(train.label.unique()))\n",
    "# print(\"Number of test examples=\", test.shape[0], \"  Number of classes in test set=\", len(test.label.unique()))\n",
    "# train.head()"
   ]
  },
  {
   "cell_type": "markdown",
   "metadata": {},
   "source": [
    "### Distribution of Categories"
   ]
  },
  {
   "cell_type": "code",
   "execution_count": 4,
   "metadata": {},
   "outputs": [],
   "source": [
    "# category_group = train.groupby(['label', 'manually_verified']).count()\n",
    "# plot = category_group.unstack().reindex(category_group.unstack().sum(axis=1).sort_values().index)\\\n",
    "#           .plot(kind='bar', stacked=True, title=\"Number of Audio Samples per Category\", figsize=(16,10))\n",
    "# plot.set_xlabel(\"Category\")\n",
    "# plot.set_ylabel(\"Number of Samples\")\n",
    "# print('Minimum samples per category = ', min(train.label.value_counts()))\n",
    "# print('Maximum samples per category = ', max(train.label.value_counts()))"
   ]
  },
  {
   "cell_type": "markdown",
   "metadata": {},
   "source": [
    "### Test listening audio "
   ]
  },
  {
   "cell_type": "code",
   "execution_count": 5,
   "metadata": {},
   "outputs": [],
   "source": [
    "# fname = dataset_path + 'audio_train/' + '00044347.wav'   # Hi-hat\n",
    "# ipd.Audio(fname)"
   ]
  },
  {
   "cell_type": "code",
   "execution_count": 6,
   "metadata": {},
   "outputs": [],
   "source": [
    "# ## plot wave using librosa \n",
    "# wav, sr = librosa.load(fname)\n",
    "# print(\"Sampling (frame) rate = \", sr)\n",
    "# print(\"Total samples (frames) = \", len(wav))\n",
    "# print(\"Duration = \", len(wav)/sr)\n",
    "\n",
    "# ## plot audio frames\n",
    "# plt.plot(wav, 'r--')\n",
    "# plt.title(\"Audio frames\")\n",
    "# plt.show()\n",
    "\n",
    "# ## zoom in on first 500 frames\n",
    "# plt.figure(figsize=(16,4))\n",
    "# plt.plot(wav[:500],'--')\n",
    "# plt.plot(wav[:500],'.')\n",
    "# plt.title(\"First 500 frames\")\n",
    "# plt.show()"
   ]
  },
  {
   "cell_type": "markdown",
   "metadata": {},
   "source": [
    "### Audio Length Distribution"
   ]
  },
  {
   "cell_type": "code",
   "execution_count": 7,
   "metadata": {},
   "outputs": [],
   "source": [
    "# train['nframes'] = train['fname'].apply(lambda f: wave.open(dataset_path+'audio_train/' + f).getnframes())\n",
    "# test['nframes'] = test['fname'].apply(lambda f: wave.open(dataset_path+'audio_test/' + f).getnframes())"
   ]
  },
  {
   "cell_type": "code",
   "execution_count": 8,
   "metadata": {},
   "outputs": [],
   "source": [
    "# train.head()"
   ]
  },
  {
   "cell_type": "code",
   "execution_count": 9,
   "metadata": {},
   "outputs": [],
   "source": [
    "# _, ax = plt.subplots(figsize=(16, 4))\n",
    "# sns.violinplot(ax=ax, x=\"label\", y=\"nframes\", data=train)\n",
    "# plt.xticks(rotation=90)\n",
    "# plt.title('Distribution of audio frames, per label', fontsize=16)\n",
    "# plt.show()"
   ]
  },
  {
   "cell_type": "code",
   "execution_count": 10,
   "metadata": {},
   "outputs": [],
   "source": [
    "# fig, axes = plt.subplots(nrows=1, ncols=2, figsize=(16,5))\n",
    "# train.nframes.hist(bins=100, ax=axes[0])\n",
    "# test.nframes.hist(bins=100, ax=axes[1])\n",
    "# plt.suptitle('Frame Length Distribution in Train and Test', ha='center', fontsize='large')"
   ]
  },
  {
   "cell_type": "markdown",
   "metadata": {},
   "source": [
    "# 2. Building from scratch a simple CNN-1D using Raw Wave"
   ]
  },
  {
   "cell_type": "markdown",
   "metadata": {},
   "source": [
    "### Loading audio using Torch Audio"
   ]
  },
  {
   "cell_type": "code",
   "execution_count": 11,
   "metadata": {},
   "outputs": [],
   "source": [
    "# fname = dataset_path + 'audio_train/' + '00044347.wav'   # Hi-hat\n",
    "# wav, sr = torchaudio.load(fname)  ## wav is now a tensor, not an array\n",
    "# print(\"Sampling (frame) rate = \", sr)\n",
    "# print(\"Total samples (frames) = \", wav.size(1))\n",
    "# print(\"Duration = \", wav.size(1)/sr)\n",
    "\n",
    "# ## plot audio frames\n",
    "# plt.plot(wav.t().numpy()[:500], 'r--')\n",
    "# plt.title(\"Audio frames\")\n",
    "# plt.show()\n",
    "\n",
    "# # ## zoom in on first 500 frames\n",
    "# # plt.figure(figsize=(16,4))\n",
    "# # plt.plot(wav[:500],'--')\n",
    "# # plt.plot(wav[:500],'.')\n",
    "# # plt.title(\"First 500 frames\")\n",
    "# # plt.show()\n",
    "\n",
    "# resampled_wav = torchaudio.transforms.Resample(sr, 16000)(wav)\n",
    "# print(resampled_wav.t().size())\n",
    "# print(resampled_wav.size(1))\n",
    "# plt.plot(resampled_wav.t()[:500].numpy())\n",
    "# plt.show()"
   ]
  },
  {
   "cell_type": "markdown",
   "metadata": {},
   "source": [
    "### Prepare training dataset"
   ]
  },
  {
   "cell_type": "code",
   "execution_count": 12,
   "metadata": {},
   "outputs": [],
   "source": [
    "# classes = train['label'].unique()\n",
    "# print(classes)\n",
    "# list(classes).index('Saxophone')"
   ]
  },
  {
   "cell_type": "code",
   "execution_count": 13,
   "metadata": {},
   "outputs": [
    {
     "name": "stdout",
     "output_type": "stream",
     "text": [
      "Nb of training samples =  9473\n",
      "Nb of classes =  41\n"
     ]
    }
   ],
   "source": [
    "class AudioDataset(Dataset):\n",
    "    \n",
    "    def __init__(self, csv_file, root_dir=None, sampling_rate=44100, is_labeled = True, transform=None):\n",
    "        self.data = pd.read_csv(csv_file)\n",
    "        self.root_dir = root_dir\n",
    "        self.transform = transform\n",
    "        self.sampling_rate = sampling_rate\n",
    "        self.is_labeled = is_labeled\n",
    "        \n",
    "        print(\"Nb of training samples = \", self.__len__())\n",
    "    \n",
    "        if self.is_labeled :\n",
    "            self.all_classes = list(self.data['label'].unique())\n",
    "            self.n_classes = len(self.all_classes)\n",
    "            print('Nb of classes = ', self.n_classes)\n",
    "\n",
    "    ## len(dataset) return the size of dataset    \n",
    "    def __len__(self):\n",
    "        return self.data.shape[0]\n",
    "    \n",
    "    def get_classes(self):\n",
    "        return self.all_classes\n",
    "    \n",
    "    ## dataset[i] return the ith sample\n",
    "    def __getitem__(self,idx):\n",
    "        if torch.is_tensor(idx):\n",
    "            idx = idx.tolist()\n",
    "            \n",
    "        fname = os.path.join(self.root_dir,\n",
    "                            self.data.iloc[idx,0])\n",
    "        \n",
    "        wav, sr = torchaudio.load(fname)  ## wav is a tensor, not an array\n",
    "        ## Resampling with new sampling_rate\n",
    "        sample = torchaudio.transforms.Resample(sr, self.sampling_rate)(wav)\n",
    "#         sample = wav.t()\n",
    "        \n",
    "        ## Random offset + Padding + Normalization\n",
    "        if self.transform :\n",
    "            sample = self.transform(sample)\n",
    "\n",
    "        if self.is_labeled:\n",
    "            label_name = self.data.iloc[idx,1]\n",
    "            label = self.all_classes.index(label_name)\n",
    "            return {'raw_signal':sample,'label':label}\n",
    "            \n",
    "        else : \n",
    "            return {'raw_signal':sample}\n",
    "\n",
    "    \n",
    "        \n",
    "# ### Test \n",
    "\n",
    "# audio_ds= AudioDataset(csv_file = os.path.join(dataset_path,\"train.csv\"),\n",
    "#                       root_dir  = dataset_path + 'audio_train/',\n",
    "#                       sampling_rate = 16000,\n",
    "#                       is_labeled = True)\n",
    "# classes = audio_ds.get_classes()\n",
    "# print(len(audio_ds))\n",
    "# for i in range(3):\n",
    "#     sample = audio_ds[i]\n",
    "#     print(sample['raw_signal'].size())\n",
    "#     ## plot audio frames\n",
    "#     plt.plot(sample['raw_signal'].t().numpy(), 'r--')\n",
    "#     plt.title(\"Audio frames \" + str(i) + \": \" + classes[(sample['label'])])\n",
    "#     plt.show()\n",
    "\n",
    "class Random_Sample(object):\n",
    "    \n",
    "    def __init__(self, sample_duration, sampling_rate):\n",
    "        self.sample_length = sample_duration * sampling_rate\n",
    "\n",
    "    def __call__(self, sample):\n",
    "        original_audio_length = sample.size(1)\n",
    "        sample = sample.t()\n",
    "        ## random offset / Padding\n",
    "        if original_audio_length > self.sample_length:\n",
    "            max_offset = original_audio_length - self.sample_length\n",
    "            offset = np.random.randint(max_offset)\n",
    "            new_sample = sample[offset:(offset+self.sample_length)].numpy()\n",
    "        else:\n",
    "            if original_audio_length == self.sample_length:\n",
    "                offset = 0\n",
    "            else: \n",
    "                max_offset = self.sample_length - original_audio_length\n",
    "                offset = np.random.randint(max_offset)\n",
    "            ## zero padding \n",
    "            new_sample = np.pad(sample.numpy()[:,0], (offset, self.sample_length - original_audio_length - offset), \"constant\")\n",
    "                \n",
    "        ## Normalize\n",
    "        max_val = np.max(new_sample)\n",
    "        min_val = np.min(new_sample)\n",
    "    \n",
    "        new_sample = (new_sample - min_val)/(max_val - min_val + 1e-6)\n",
    "        new_sample -= 0.5\n",
    "        \n",
    "        return torch.from_numpy(new_sample.reshape(1,-1))\n",
    "\n",
    "### Test \n",
    "\n",
    "transformed_audio_ds= AudioDataset(csv_file = os.path.join(dataset_path,\"train.csv\"),\n",
    "                      root_dir  = dataset_path + 'audio_train/',\n",
    "                      sampling_rate = 16000,\n",
    "                      transform=Random_Sample(sample_duration=2,sampling_rate=16000))\n",
    "classes = transformed_audio_ds.get_classes()\n",
    "    "
   ]
  },
  {
   "cell_type": "code",
   "execution_count": 14,
   "metadata": {},
   "outputs": [],
   "source": [
    "# # print(len(transformed_audio_ds))\n",
    "# for i in range(3):\n",
    "#     sample = transformed_audio_ds[i]\n",
    "#     print(sample['raw_signal'].size())\n",
    "#     ## plot audio frames\n",
    "#     plt.plot(sample['raw_signal'].t().numpy(), 'r--')\n",
    "#     plt.title(\"Audio frames \" + str(i) + \": \" + classes[(sample['label'])])\n",
    "#     plt.show()\n"
   ]
  },
  {
   "cell_type": "markdown",
   "metadata": {},
   "source": [
    "### Iterating through dataset using DataLoader"
   ]
  },
  {
   "cell_type": "code",
   "execution_count": 15,
   "metadata": {},
   "outputs": [],
   "source": [
    "# def show_raw_wave_batch(sample_batched):\n",
    "#     batch_size = sample_batched['raw_signal'].size(0)\n",
    "#     for i in range(batch_size):\n",
    "#         plt.plot(sample_batched['raw_signal'][i].t().numpy())\n",
    "#         plt.show()"
   ]
  },
  {
   "cell_type": "code",
   "execution_count": 16,
   "metadata": {},
   "outputs": [],
   "source": [
    "# batch_size = 3\n",
    "# dataloader = DataLoader(transformed_audio_ds, batch_size = batch_size, shuffle =True, num_workers=4)\n",
    "\n",
    "# # for i_batch, sample_batched in enumerate(dataloader):\n",
    "# #     data, label = sample_batched['raw_signal'], sample_batched['label']\n",
    "# #     print(i_batch, data.size(), label)\n",
    "# #     if i_batch == 3 :\n",
    "# #         show_raw_wave_batch(sample_batched)\n",
    "# #         break\n",
    "# dataloader = iter(dataloader)\n",
    "# len(dataloader)\n"
   ]
  },
  {
   "cell_type": "code",
   "execution_count": 17,
   "metadata": {},
   "outputs": [],
   "source": [
    "# sampled_batch = next(dataloader)\n",
    "# print(sampled_batch['label'])"
   ]
  },
  {
   "cell_type": "markdown",
   "metadata": {},
   "source": [
    "### Build model"
   ]
  },
  {
   "cell_type": "code",
   "execution_count": 18,
   "metadata": {},
   "outputs": [],
   "source": [
    "# class Dummy_Conv1D_Net(Module):\n",
    "    \n",
    "#     def __init__(self):\n",
    "#         super(Dummy_Conv1D_Net,self).__init__()\n",
    "        \n",
    "#         self.cnn_layers = Sequential(\n",
    "#             ## First conv bloc\n",
    "#             Conv1d(in_channels=1, out_channels=16, kernel_size=9, padding=0),\n",
    "#             ReLU(inplace=True),\n",
    "#             Conv1d(in_channels=16, out_channels=16, kernel_size=9, padding=0),\n",
    "#             ReLU(inplace=True),\n",
    "#             MaxPool1d(kernel_size=16),\n",
    "#             Dropout(p=0.1),\n",
    "#             Flatten()\n",
    "            \n",
    "#         )\n",
    "        \n",
    "#         self.linear_layers = Sequential(\n",
    "#             Linear(in_features = 16*1999, out_features = 1024),\n",
    "#             Linear(in_features = 1024, out_features = 41)\n",
    "#         )\n",
    "    \n",
    "#     def forward(self,x):\n",
    "#         x = self.cnn_layers(x)\n",
    "# #         x = x.view((x.size(0), -1)) ## Flatten\n",
    "# #         print(x.size())\n",
    "#         x = self.linear_layers(x)\n",
    "#         return x\n",
    "\n",
    "# dummy_model = Dummy_Conv1D_Net()\n",
    "# print(dummy_model)"
   ]
  },
  {
   "cell_type": "code",
   "execution_count": 19,
   "metadata": {},
   "outputs": [
    {
     "name": "stdout",
     "output_type": "stream",
     "text": [
      "Conv1D_Net(\n",
      "  (cnn_bloc_1): Sequential(\n",
      "    (0): Conv1d(1, 16, kernel_size=(9,), stride=(1,))\n",
      "    (1): ReLU()\n",
      "    (2): Conv1d(16, 16, kernel_size=(9,), stride=(1,))\n",
      "    (3): ReLU()\n",
      "    (4): MaxPool1d(kernel_size=16, stride=16, padding=0, dilation=1, ceil_mode=False)\n",
      "    (5): Dropout(p=0.1, inplace=False)\n",
      "  )\n",
      "  (cnn_bloc_2): Sequential(\n",
      "    (0): Conv1d(16, 32, kernel_size=(3,), stride=(1,))\n",
      "    (1): ReLU()\n",
      "    (2): Conv1d(32, 32, kernel_size=(3,), stride=(1,))\n",
      "    (3): ReLU()\n",
      "    (4): MaxPool1d(kernel_size=4, stride=4, padding=0, dilation=1, ceil_mode=False)\n",
      "    (5): Dropout(p=0.1, inplace=False)\n",
      "  )\n",
      "  (cnn_bloc_3): Sequential(\n",
      "    (0): Conv1d(32, 32, kernel_size=(3,), stride=(1,))\n",
      "    (1): ReLU()\n",
      "    (2): Conv1d(32, 32, kernel_size=(3,), stride=(1,))\n",
      "    (3): ReLU()\n",
      "    (4): MaxPool1d(kernel_size=4, stride=4, padding=0, dilation=1, ceil_mode=False)\n",
      "    (5): Dropout(p=0.1, inplace=False)\n",
      "  )\n",
      "  (cnn_bloc_4): Sequential(\n",
      "    (0): Conv1d(32, 256, kernel_size=(3,), stride=(1,))\n",
      "    (1): ReLU()\n",
      "    (2): Conv1d(256, 256, kernel_size=(3,), stride=(1,))\n",
      "    (3): ReLU()\n",
      "    (4): AdaptiveMaxPool1d(output_size=1)\n",
      "    (5): Dropout(p=0.2, inplace=False)\n",
      "    (6): Flatten()\n",
      "  )\n",
      "  (linear_layers): Sequential(\n",
      "    (0): Linear(in_features=256, out_features=64, bias=True)\n",
      "    (1): ReLU()\n",
      "    (2): Linear(in_features=64, out_features=1028, bias=True)\n",
      "    (3): ReLU()\n",
      "    (4): Linear(in_features=1028, out_features=41, bias=True)\n",
      "  )\n",
      ")\n"
     ]
    }
   ],
   "source": [
    "class Conv1D_Net(Module):\n",
    "    \n",
    "    def __init__(self):\n",
    "        super(Conv1D_Net,self).__init__()\n",
    "        \n",
    "        self.cnn_bloc_1 = Sequential(\n",
    "            ## First conv bloc\n",
    "            Conv1d(in_channels=1, out_channels=16, kernel_size=9, padding=0),\n",
    "            ReLU(),\n",
    "            Conv1d(in_channels=16, out_channels=16, kernel_size=9, padding=0),\n",
    "            ReLU(),\n",
    "            MaxPool1d(kernel_size=16),\n",
    "            Dropout(p=0.1)            \n",
    "        )\n",
    "        \n",
    "        self.cnn_bloc_2 = Sequential(\n",
    "            ## second conv bloc\n",
    "            Conv1d(in_channels=16, out_channels=32, kernel_size=3, padding=0),\n",
    "            ReLU(),\n",
    "            Conv1d(in_channels=32, out_channels=32, kernel_size=3, padding=0),\n",
    "            ReLU(),\n",
    "            MaxPool1d(kernel_size=4),\n",
    "            Dropout(p=0.1)            \n",
    "        )\n",
    "        \n",
    "        self.cnn_bloc_3 = Sequential(\n",
    "            ## Third conv bloc\n",
    "            Conv1d(in_channels=32, out_channels=32, kernel_size=3, padding=0),\n",
    "            ReLU(),\n",
    "            Conv1d(in_channels=32, out_channels=32, kernel_size=3, padding=0),\n",
    "            ReLU(),\n",
    "            MaxPool1d(kernel_size=4),\n",
    "            Dropout(p=0.1)\n",
    "        )\n",
    "        \n",
    "        self.cnn_bloc_4 = Sequential(\n",
    "            ## Fourth conv bloc\n",
    "            Conv1d(in_channels=32, out_channels=256, kernel_size=3, padding=0),\n",
    "            ReLU(),\n",
    "            Conv1d(in_channels=256, out_channels=256, kernel_size=3, padding=0),\n",
    "            ReLU(),\n",
    "            AdaptiveMaxPool1d(output_size=1),\n",
    "            Dropout(p=0.2),\n",
    "            Flatten()\n",
    "        )\n",
    "        \n",
    "        self.linear_layers = Sequential(\n",
    "            Linear(in_features = 256, out_features = 64),\n",
    "            ReLU(),\n",
    "            Linear(in_features = 64, out_features = 1028),\n",
    "            ReLU(),\n",
    "            Linear(in_features = 1028, out_features = 41)\n",
    "#             Softmax(dim=1)\n",
    "        )\n",
    "    \n",
    "    def forward(self,x):\n",
    "        x = self.cnn_bloc_1(x)\n",
    "        x = self.cnn_bloc_2(x)\n",
    "        x = self.cnn_bloc_3(x)\n",
    "        x = self.cnn_bloc_4(x)\n",
    "        x = self.linear_layers(x)\n",
    "        return x\n",
    "\n",
    "conv1d_model = Conv1D_Net()\n",
    "print(conv1d_model)\n",
    "\n",
    "## Define loss function an optimizer\n",
    "criterion = CrossEntropyLoss()\n",
    "optimizer = Adam(conv1d_model.parameters(), lr=0.001, weight_decay=1e-5)"
   ]
  },
  {
   "cell_type": "markdown",
   "metadata": {},
   "source": [
    "### TensorBoard setup"
   ]
  },
  {
   "cell_type": "code",
   "execution_count": 20,
   "metadata": {},
   "outputs": [],
   "source": [
    "writer = SummaryWriter('runs/conv1d_audio_test_2')\n",
    "# writer.close()"
   ]
  },
  {
   "cell_type": "markdown",
   "metadata": {},
   "source": [
    "### Train model"
   ]
  },
  {
   "cell_type": "code",
   "execution_count": 21,
   "metadata": {},
   "outputs": [
    {
     "name": "stdout",
     "output_type": "stream",
     "text": [
      "126 23\n"
     ]
    }
   ],
   "source": [
    "train_ds, val_ds = random_split(transformed_audio_ds, [8053,1420])\n",
    "\n",
    "batch_size = 64\n",
    "\n",
    "train_dataloader = DataLoader(train_ds, batch_size = batch_size, shuffle =True, num_workers=10)\n",
    "val_dataloader = DataLoader(val_ds, batch_size = batch_size, shuffle =True, num_workers=10)\n",
    "train_batches = len(train_dataloader)\n",
    "val_batches = len(val_dataloader)\n",
    "# train_iter  = iter(train_dataloader)\n",
    "# val_iter  = iter(val_dataloader)\n",
    "# data, labels = next(iter(dataloader))\n",
    "print(train_batches, val_batches)"
   ]
  },
  {
   "cell_type": "code",
   "execution_count": 22,
   "metadata": {},
   "outputs": [],
   "source": [
    "# sample = next(train_iter)\n",
    "# sample['label']"
   ]
  },
  {
   "cell_type": "code",
   "execution_count": 23,
   "metadata": {},
   "outputs": [],
   "source": [
    "# for idx, sample in enumerate(train_dataloader):\n",
    "#     print(idx, sample['label'])\n",
    "#     if idx==3:\n",
    "#         break"
   ]
  },
  {
   "cell_type": "code",
   "execution_count": 24,
   "metadata": {
    "scrolled": true
   },
   "outputs": [
    {
     "name": "stdout",
     "output_type": "stream",
     "text": [
      "Start training...\n",
      "Epoch 1/50 :\n"
     ]
    },
    {
     "data": {
      "application/vnd.jupyter.widget-view+json": {
       "model_id": "b14741885a2449cc8dd5c50e689e6296",
       "version_major": 2,
       "version_minor": 0
      },
      "text/plain": [
       "HBox(children=(FloatProgress(value=0.0, max=126.0), HTML(value='')))"
      ]
     },
     "metadata": {},
     "output_type": "display_data"
    },
    {
     "name": "stdout",
     "output_type": "stream",
     "text": [
      "Adding model to tensorboard...\n",
      "\n",
      "current_train_loss = 3.66625, current_train_acc = 0.02865\n",
      "Validating...\n",
      "train_loss = 3.66625,  train_acc = 0.02865, val_loss = 3.66206, val_acc = 0.03125\n",
      "\n",
      "Saving model...\n",
      "\n",
      "================================================================================\n",
      "Epoch 2/50 :\n"
     ]
    },
    {
     "name": "stderr",
     "output_type": "stream",
     "text": [
      "/home/renault/env/lib/python3.5/site-packages/torch/serialization.py:360: UserWarning: Couldn't retrieve source code for container of type Conv1D_Net. It won't be checked for correctness upon loading.\n",
      "  \"type \" + obj.__name__ + \". It won't be checked \"\n"
     ]
    },
    {
     "data": {
      "application/vnd.jupyter.widget-view+json": {
       "model_id": "2754ed8e7092498295d1e56847fa4a2e",
       "version_major": 2,
       "version_minor": 0
      },
      "text/plain": [
       "HBox(children=(FloatProgress(value=0.0, max=126.0), HTML(value='')))"
      ]
     },
     "metadata": {},
     "output_type": "display_data"
    },
    {
     "name": "stdout",
     "output_type": "stream",
     "text": [
      "current_train_loss = 3.65437, current_train_acc = 0.03182\n",
      "Validating...\n",
      "train_loss = 3.65437,  train_acc = 0.03182, val_loss = 3.58843, val_acc = 0.05729\n",
      "\n",
      "Saving model...\n",
      "\n",
      "================================================================================\n",
      "Epoch 3/50 :\n"
     ]
    },
    {
     "data": {
      "application/vnd.jupyter.widget-view+json": {
       "model_id": "281e0c4b541e4bf4a8404f87d1cf695f",
       "version_major": 2,
       "version_minor": 0
      },
      "text/plain": [
       "HBox(children=(FloatProgress(value=0.0, max=126.0), HTML(value='')))"
      ]
     },
     "metadata": {},
     "output_type": "display_data"
    },
    {
     "name": "stdout",
     "output_type": "stream",
     "text": [
      "current_train_loss = 3.34249, current_train_acc = 0.07361\n",
      "Validating...\n",
      "train_loss = 3.34249,  train_acc = 0.07361, val_loss = 3.19667, val_acc = 0.09692\n",
      "\n",
      "Saving model...\n",
      "\n",
      "================================================================================\n",
      "Epoch 4/50 :\n"
     ]
    },
    {
     "data": {
      "application/vnd.jupyter.widget-view+json": {
       "model_id": "418c514d8d6b4b5a87648faf7dede828",
       "version_major": 2,
       "version_minor": 0
      },
      "text/plain": [
       "HBox(children=(FloatProgress(value=0.0, max=126.0), HTML(value='')))"
      ]
     },
     "metadata": {},
     "output_type": "display_data"
    },
    {
     "name": "stdout",
     "output_type": "stream",
     "text": [
      "current_train_loss = 3.17235, current_train_acc = 0.11179\n",
      "Validating...\n",
      "train_loss = 3.17235,  train_acc = 0.11179, val_loss = 3.07221, val_acc = 0.12840\n",
      "\n",
      "Saving model...\n",
      "\n",
      "================================================================================\n",
      "Epoch 5/50 :\n"
     ]
    },
    {
     "data": {
      "application/vnd.jupyter.widget-view+json": {
       "model_id": "1071996162724bdb9338074a822cdfec",
       "version_major": 2,
       "version_minor": 0
      },
      "text/plain": [
       "HBox(children=(FloatProgress(value=0.0, max=126.0), HTML(value='')))"
      ]
     },
     "metadata": {},
     "output_type": "display_data"
    },
    {
     "name": "stdout",
     "output_type": "stream",
     "text": [
      "current_train_loss = 3.03793, current_train_acc = 0.14026\n",
      "Validating...\n",
      "train_loss = 3.03793,  train_acc = 0.14026, val_loss = 2.95877, val_acc = 0.16735\n",
      "\n",
      "Saving model...\n",
      "\n",
      "================================================================================\n",
      "Epoch 6/50 :\n"
     ]
    },
    {
     "data": {
      "application/vnd.jupyter.widget-view+json": {
       "model_id": "03a08b6ef7174529b06192293903bf79",
       "version_major": 2,
       "version_minor": 0
      },
      "text/plain": [
       "HBox(children=(FloatProgress(value=0.0, max=126.0), HTML(value='')))"
      ]
     },
     "metadata": {},
     "output_type": "display_data"
    },
    {
     "name": "stdout",
     "output_type": "stream",
     "text": [
      "current_train_loss = 2.94399, current_train_acc = 0.16702\n",
      "Validating...\n",
      "train_loss = 2.94399,  train_acc = 0.16702, val_loss = 2.83787, val_acc = 0.21060\n",
      "\n",
      "Saving model...\n",
      "\n",
      "================================================================================\n",
      "Epoch 7/50 :\n"
     ]
    },
    {
     "data": {
      "application/vnd.jupyter.widget-view+json": {
       "model_id": "307bb0d915b248c3a5ca8a03bb374fbe",
       "version_major": 2,
       "version_minor": 0
      },
      "text/plain": [
       "HBox(children=(FloatProgress(value=0.0, max=126.0), HTML(value='')))"
      ]
     },
     "metadata": {},
     "output_type": "display_data"
    },
    {
     "name": "stdout",
     "output_type": "stream",
     "text": [
      "current_train_loss = 2.84765, current_train_acc = 0.19922\n",
      "Validating...\n",
      "train_loss = 2.84765,  train_acc = 0.19922, val_loss = 2.81206, val_acc = 0.20924\n",
      "\n",
      "Saving model...\n",
      "\n",
      "================================================================================\n",
      "Epoch 8/50 :\n"
     ]
    },
    {
     "data": {
      "application/vnd.jupyter.widget-view+json": {
       "model_id": "e04e85cb8a974df796525861f95455f7",
       "version_major": 2,
       "version_minor": 0
      },
      "text/plain": [
       "HBox(children=(FloatProgress(value=0.0, max=126.0), HTML(value='')))"
      ]
     },
     "metadata": {},
     "output_type": "display_data"
    },
    {
     "name": "stdout",
     "output_type": "stream",
     "text": [
      "current_train_loss = 2.77245, current_train_acc = 0.21442\n",
      "Validating...\n",
      "train_loss = 2.77245,  train_acc = 0.21442, val_loss = 2.69767, val_acc = 0.23913\n",
      "\n",
      "Saving model...\n",
      "\n",
      "================================================================================\n",
      "Epoch 9/50 :\n"
     ]
    },
    {
     "data": {
      "application/vnd.jupyter.widget-view+json": {
       "model_id": "37aa19746bb143ccac1d5df9416827fd",
       "version_major": 2,
       "version_minor": 0
      },
      "text/plain": [
       "HBox(children=(FloatProgress(value=0.0, max=126.0), HTML(value='')))"
      ]
     },
     "metadata": {},
     "output_type": "display_data"
    },
    {
     "name": "stdout",
     "output_type": "stream",
     "text": [
      "current_train_loss = 2.70064, current_train_acc = 0.23456\n",
      "Validating...\n",
      "train_loss = 2.70064,  train_acc = 0.23456, val_loss = 2.59083, val_acc = 0.24094\n",
      "\n",
      "Saving model...\n",
      "\n",
      "================================================================================\n",
      "Epoch 10/50 :\n"
     ]
    },
    {
     "data": {
      "application/vnd.jupyter.widget-view+json": {
       "model_id": "f9a5c1ce28344129bcc1e6c11c2abdbb",
       "version_major": 2,
       "version_minor": 0
      },
      "text/plain": [
       "HBox(children=(FloatProgress(value=0.0, max=126.0), HTML(value='')))"
      ]
     },
     "metadata": {},
     "output_type": "display_data"
    },
    {
     "name": "stdout",
     "output_type": "stream",
     "text": [
      "current_train_loss = 2.65112, current_train_acc = 0.23915\n",
      "Validating...\n",
      "train_loss = 2.65112,  train_acc = 0.23915, val_loss = 2.62082, val_acc = 0.25091\n",
      "\n",
      "\n",
      "================================================================================\n",
      "Epoch 11/50 :\n"
     ]
    },
    {
     "data": {
      "application/vnd.jupyter.widget-view+json": {
       "model_id": "518dbcf4b2204f6f8decdb57c3ad22ed",
       "version_major": 2,
       "version_minor": 0
      },
      "text/plain": [
       "HBox(children=(FloatProgress(value=0.0, max=126.0), HTML(value='')))"
      ]
     },
     "metadata": {},
     "output_type": "display_data"
    },
    {
     "name": "stdout",
     "output_type": "stream",
     "text": [
      "current_train_loss = 2.58856, current_train_acc = 0.25780\n",
      "Validating...\n",
      "train_loss = 2.58856,  train_acc = 0.25780, val_loss = 2.54977, val_acc = 0.25408\n",
      "\n",
      "Saving model...\n",
      "\n",
      "================================================================================\n",
      "Epoch 12/50 :\n"
     ]
    },
    {
     "data": {
      "application/vnd.jupyter.widget-view+json": {
       "model_id": "8f6e376ec32f48c4b631bfaf3b511fc2",
       "version_major": 2,
       "version_minor": 0
      },
      "text/plain": [
       "HBox(children=(FloatProgress(value=0.0, max=126.0), HTML(value='')))"
      ]
     },
     "metadata": {},
     "output_type": "display_data"
    },
    {
     "name": "stdout",
     "output_type": "stream",
     "text": [
      "current_train_loss = 2.54815, current_train_acc = 0.26990\n",
      "Validating...\n",
      "train_loss = 2.54815,  train_acc = 0.26990, val_loss = 2.48463, val_acc = 0.27061\n",
      "\n",
      "Saving model...\n",
      "\n",
      "================================================================================\n",
      "Epoch 13/50 :\n"
     ]
    },
    {
     "data": {
      "application/vnd.jupyter.widget-view+json": {
       "model_id": "84e3767f47e44e8983badeeab2e82651",
       "version_major": 2,
       "version_minor": 0
      },
      "text/plain": [
       "HBox(children=(FloatProgress(value=0.0, max=126.0), HTML(value='')))"
      ]
     },
     "metadata": {},
     "output_type": "display_data"
    },
    {
     "name": "stdout",
     "output_type": "stream",
     "text": [
      "current_train_loss = 2.48886, current_train_acc = 0.27494\n",
      "Validating...\n",
      "train_loss = 2.48886,  train_acc = 0.27494, val_loss = 2.46055, val_acc = 0.28872\n",
      "\n",
      "Saving model...\n",
      "\n",
      "================================================================================\n",
      "Epoch 14/50 :\n"
     ]
    },
    {
     "data": {
      "application/vnd.jupyter.widget-view+json": {
       "model_id": "bfd75df5da674e97be7693e7d801446f",
       "version_major": 2,
       "version_minor": 0
      },
      "text/plain": [
       "HBox(children=(FloatProgress(value=0.0, max=126.0), HTML(value='')))"
      ]
     },
     "metadata": {},
     "output_type": "display_data"
    },
    {
     "name": "stdout",
     "output_type": "stream",
     "text": [
      "current_train_loss = 2.44634, current_train_acc = 0.29255\n",
      "Validating...\n",
      "train_loss = 2.44634,  train_acc = 0.29255, val_loss = 2.44342, val_acc = 0.29008\n",
      "\n",
      "Saving model...\n",
      "\n",
      "================================================================================\n",
      "Epoch 15/50 :\n"
     ]
    },
    {
     "data": {
      "application/vnd.jupyter.widget-view+json": {
       "model_id": "018d77054621469b893ef56a3821624a",
       "version_major": 2,
       "version_minor": 0
      },
      "text/plain": [
       "HBox(children=(FloatProgress(value=0.0, max=126.0), HTML(value='')))"
      ]
     },
     "metadata": {},
     "output_type": "display_data"
    },
    {
     "name": "stdout",
     "output_type": "stream",
     "text": [
      "current_train_loss = 2.40717, current_train_acc = 0.30214\n",
      "Validating...\n",
      "train_loss = 2.40717,  train_acc = 0.30214, val_loss = 2.43633, val_acc = 0.29552\n",
      "\n",
      "Saving model...\n",
      "\n",
      "================================================================================\n",
      "Epoch 16/50 :\n"
     ]
    },
    {
     "data": {
      "application/vnd.jupyter.widget-view+json": {
       "model_id": "8ab394f87bbe4ec98d577499c2a02062",
       "version_major": 2,
       "version_minor": 0
      },
      "text/plain": [
       "HBox(children=(FloatProgress(value=0.0, max=126.0), HTML(value='')))"
      ]
     },
     "metadata": {},
     "output_type": "display_data"
    },
    {
     "name": "stdout",
     "output_type": "stream",
     "text": [
      "current_train_loss = 2.37724, current_train_acc = 0.30991\n",
      "Validating...\n",
      "train_loss = 2.37724,  train_acc = 0.30991, val_loss = 2.43908, val_acc = 0.28623\n",
      "\n",
      "\n",
      "================================================================================\n",
      "Epoch 17/50 :\n"
     ]
    },
    {
     "data": {
      "application/vnd.jupyter.widget-view+json": {
       "model_id": "5e191b7cb8ba49719d4fd5374a07ecf0",
       "version_major": 2,
       "version_minor": 0
      },
      "text/plain": [
       "HBox(children=(FloatProgress(value=0.0, max=126.0), HTML(value='')))"
      ]
     },
     "metadata": {},
     "output_type": "display_data"
    },
    {
     "name": "stdout",
     "output_type": "stream",
     "text": [
      "current_train_loss = 2.34619, current_train_acc = 0.32003\n",
      "Validating...\n",
      "train_loss = 2.34619,  train_acc = 0.32003, val_loss = 2.33042, val_acc = 0.32586\n",
      "\n",
      "Saving model...\n",
      "\n",
      "================================================================================\n",
      "Epoch 18/50 :\n"
     ]
    },
    {
     "data": {
      "application/vnd.jupyter.widget-view+json": {
       "model_id": "dbac2d06714f43a5a532d3e35287badd",
       "version_major": 2,
       "version_minor": 0
      },
      "text/plain": [
       "HBox(children=(FloatProgress(value=0.0, max=126.0), HTML(value='')))"
      ]
     },
     "metadata": {},
     "output_type": "display_data"
    },
    {
     "name": "stdout",
     "output_type": "stream",
     "text": [
      "current_train_loss = 2.29699, current_train_acc = 0.33008\n",
      "Validating...\n",
      "train_loss = 2.29699,  train_acc = 0.33008, val_loss = 2.35407, val_acc = 0.32631\n",
      "\n",
      "\n",
      "================================================================================\n",
      "Epoch 19/50 :\n"
     ]
    },
    {
     "data": {
      "application/vnd.jupyter.widget-view+json": {
       "model_id": "89aa472bb0cf49ffa66a6d5795114fc5",
       "version_major": 2,
       "version_minor": 0
      },
      "text/plain": [
       "HBox(children=(FloatProgress(value=0.0, max=126.0), HTML(value='')))"
      ]
     },
     "metadata": {},
     "output_type": "display_data"
    },
    {
     "name": "stdout",
     "output_type": "stream",
     "text": [
      "current_train_loss = 2.26911, current_train_acc = 0.34325\n",
      "Validating...\n",
      "train_loss = 2.26911,  train_acc = 0.34325, val_loss = 2.28523, val_acc = 0.34579\n",
      "\n",
      "Saving model...\n",
      "\n",
      "================================================================================\n",
      "Epoch 20/50 :\n"
     ]
    },
    {
     "data": {
      "application/vnd.jupyter.widget-view+json": {
       "model_id": "1356ef058d4c4b1c942f5af14fa0cab3",
       "version_major": 2,
       "version_minor": 0
      },
      "text/plain": [
       "HBox(children=(FloatProgress(value=0.0, max=126.0), HTML(value='')))"
      ]
     },
     "metadata": {},
     "output_type": "display_data"
    },
    {
     "name": "stdout",
     "output_type": "stream",
     "text": [
      "current_train_loss = 2.23252, current_train_acc = 0.35379\n",
      "Validating...\n",
      "train_loss = 2.23252,  train_acc = 0.35379, val_loss = 2.23044, val_acc = 0.34081\n",
      "\n",
      "Saving model...\n",
      "\n",
      "================================================================================\n",
      "Epoch 21/50 :\n"
     ]
    },
    {
     "data": {
      "application/vnd.jupyter.widget-view+json": {
       "model_id": "6168fed2cce848df8c0ba37b4d5f4b8b",
       "version_major": 2,
       "version_minor": 0
      },
      "text/plain": [
       "HBox(children=(FloatProgress(value=0.0, max=126.0), HTML(value='')))"
      ]
     },
     "metadata": {},
     "output_type": "display_data"
    },
    {
     "name": "stdout",
     "output_type": "stream",
     "text": [
      "current_train_loss = 2.21349, current_train_acc = 0.35436\n",
      "Validating...\n",
      "train_loss = 2.21349,  train_acc = 0.35436, val_loss = 2.23000, val_acc = 0.35530\n",
      "\n",
      "Saving model...\n",
      "\n",
      "================================================================================\n",
      "Epoch 22/50 :\n"
     ]
    },
    {
     "data": {
      "application/vnd.jupyter.widget-view+json": {
       "model_id": "e07c41a4abe8442d9b0294a408b3031d",
       "version_major": 2,
       "version_minor": 0
      },
      "text/plain": [
       "HBox(children=(FloatProgress(value=0.0, max=126.0), HTML(value='')))"
      ]
     },
     "metadata": {},
     "output_type": "display_data"
    },
    {
     "name": "stdout",
     "output_type": "stream",
     "text": [
      "current_train_loss = 2.18812, current_train_acc = 0.35748\n",
      "Validating...\n",
      "train_loss = 2.18812,  train_acc = 0.35748, val_loss = 2.16042, val_acc = 0.37251\n",
      "\n",
      "Saving model...\n",
      "\n",
      "================================================================================\n",
      "Epoch 23/50 :\n"
     ]
    },
    {
     "data": {
      "application/vnd.jupyter.widget-view+json": {
       "model_id": "b23153827c0c42b8aef45cae3962f82a",
       "version_major": 2,
       "version_minor": 0
      },
      "text/plain": [
       "HBox(children=(FloatProgress(value=0.0, max=126.0), HTML(value='')))"
      ]
     },
     "metadata": {},
     "output_type": "display_data"
    },
    {
     "name": "stdout",
     "output_type": "stream",
     "text": [
      "current_train_loss = 2.13344, current_train_acc = 0.37445\n",
      "Validating...\n",
      "train_loss = 2.13344,  train_acc = 0.37445, val_loss = 2.19665, val_acc = 0.37002\n",
      "\n",
      "\n",
      "================================================================================\n",
      "Epoch 24/50 :\n"
     ]
    },
    {
     "data": {
      "application/vnd.jupyter.widget-view+json": {
       "model_id": "e4dd52eed43c47cda5b594799c05f2dc",
       "version_major": 2,
       "version_minor": 0
      },
      "text/plain": [
       "HBox(children=(FloatProgress(value=0.0, max=126.0), HTML(value='')))"
      ]
     },
     "metadata": {},
     "output_type": "display_data"
    },
    {
     "name": "stdout",
     "output_type": "stream",
     "text": [
      "current_train_loss = 2.11862, current_train_acc = 0.38149\n",
      "Validating...\n",
      "train_loss = 2.11862,  train_acc = 0.38149, val_loss = 2.15035, val_acc = 0.36141\n",
      "\n",
      "Saving model...\n",
      "\n",
      "================================================================================\n",
      "Epoch 25/50 :\n"
     ]
    },
    {
     "data": {
      "application/vnd.jupyter.widget-view+json": {
       "model_id": "2ac9b7519a6246e0acbedab74d26e229",
       "version_major": 2,
       "version_minor": 0
      },
      "text/plain": [
       "HBox(children=(FloatProgress(value=0.0, max=126.0), HTML(value='')))"
      ]
     },
     "metadata": {},
     "output_type": "display_data"
    },
    {
     "name": "stdout",
     "output_type": "stream",
     "text": [
      "current_train_loss = 2.08805, current_train_acc = 0.39047\n",
      "Validating...\n",
      "train_loss = 2.08805,  train_acc = 0.39047, val_loss = 2.09488, val_acc = 0.41463\n",
      "\n",
      "Saving model...\n",
      "\n",
      "================================================================================\n",
      "Epoch 26/50 :\n"
     ]
    },
    {
     "data": {
      "application/vnd.jupyter.widget-view+json": {
       "model_id": "68ebfd19a94b4f58b7d3b8845dd51bad",
       "version_major": 2,
       "version_minor": 0
      },
      "text/plain": [
       "HBox(children=(FloatProgress(value=0.0, max=126.0), HTML(value='')))"
      ]
     },
     "metadata": {},
     "output_type": "display_data"
    },
    {
     "name": "stdout",
     "output_type": "stream",
     "text": [
      "current_train_loss = 2.07210, current_train_acc = 0.38995\n",
      "Validating...\n",
      "train_loss = 2.07210,  train_acc = 0.38995, val_loss = 2.13838, val_acc = 0.38745\n",
      "\n",
      "\n",
      "================================================================================\n",
      "Epoch 27/50 :\n"
     ]
    },
    {
     "data": {
      "application/vnd.jupyter.widget-view+json": {
       "model_id": "a4193ec6f2484ab3833691d5b4445725",
       "version_major": 2,
       "version_minor": 0
      },
      "text/plain": [
       "HBox(children=(FloatProgress(value=0.0, max=126.0), HTML(value='')))"
      ]
     },
     "metadata": {},
     "output_type": "display_data"
    },
    {
     "name": "stdout",
     "output_type": "stream",
     "text": [
      "current_train_loss = 2.03828, current_train_acc = 0.40292\n",
      "Validating...\n",
      "train_loss = 2.03828,  train_acc = 0.40292, val_loss = 2.11517, val_acc = 0.38587\n",
      "\n",
      "\n",
      "================================================================================\n",
      "Epoch 28/50 :\n"
     ]
    },
    {
     "data": {
      "application/vnd.jupyter.widget-view+json": {
       "model_id": "b96fd651cc074fb8b2d293bb62c5c427",
       "version_major": 2,
       "version_minor": 0
      },
      "text/plain": [
       "HBox(children=(FloatProgress(value=0.0, max=126.0), HTML(value='')))"
      ]
     },
     "metadata": {},
     "output_type": "display_data"
    },
    {
     "name": "stdout",
     "output_type": "stream",
     "text": [
      "current_train_loss = 2.02773, current_train_acc = 0.40937\n",
      "Validating...\n",
      "train_loss = 2.02773,  train_acc = 0.40937, val_loss = 2.06913, val_acc = 0.41599\n",
      "\n",
      "Saving model...\n",
      "\n",
      "================================================================================\n",
      "Epoch 29/50 :\n"
     ]
    },
    {
     "data": {
      "application/vnd.jupyter.widget-view+json": {
       "model_id": "aa2fc4fda91c4eac976fa04c56dc94fc",
       "version_major": 2,
       "version_minor": 0
      },
      "text/plain": [
       "HBox(children=(FloatProgress(value=0.0, max=126.0), HTML(value='')))"
      ]
     },
     "metadata": {},
     "output_type": "display_data"
    },
    {
     "name": "stdout",
     "output_type": "stream",
     "text": [
      "current_train_loss = 1.99099, current_train_acc = 0.42001\n",
      "Validating...\n",
      "train_loss = 1.99099,  train_acc = 0.42001, val_loss = 2.04891, val_acc = 0.40014\n",
      "\n",
      "Saving model...\n",
      "\n",
      "================================================================================\n",
      "Epoch 30/50 :\n"
     ]
    },
    {
     "data": {
      "application/vnd.jupyter.widget-view+json": {
       "model_id": "50229799817a4f059488822f0b393c47",
       "version_major": 2,
       "version_minor": 0
      },
      "text/plain": [
       "HBox(children=(FloatProgress(value=0.0, max=126.0), HTML(value='')))"
      ]
     },
     "metadata": {},
     "output_type": "display_data"
    },
    {
     "name": "stdout",
     "output_type": "stream",
     "text": [
      "current_train_loss = 1.99547, current_train_acc = 0.41582\n",
      "Validating...\n",
      "train_loss = 1.99547,  train_acc = 0.41582, val_loss = 2.10638, val_acc = 0.39017\n",
      "\n",
      "\n",
      "================================================================================\n",
      "Epoch 31/50 :\n"
     ]
    },
    {
     "data": {
      "application/vnd.jupyter.widget-view+json": {
       "model_id": "d5546c001fc641929692f8e23c92904f",
       "version_major": 2,
       "version_minor": 0
      },
      "text/plain": [
       "HBox(children=(FloatProgress(value=0.0, max=126.0), HTML(value='')))"
      ]
     },
     "metadata": {},
     "output_type": "display_data"
    },
    {
     "name": "stdout",
     "output_type": "stream",
     "text": [
      "current_train_loss = 1.94850, current_train_acc = 0.42520\n",
      "Validating...\n",
      "train_loss = 1.94850,  train_acc = 0.42520, val_loss = 2.05151, val_acc = 0.39742\n",
      "\n",
      "\n",
      "================================================================================\n",
      "Epoch 32/50 :\n"
     ]
    },
    {
     "data": {
      "application/vnd.jupyter.widget-view+json": {
       "model_id": "93b8bdea3c774e878639eea68443976a",
       "version_major": 2,
       "version_minor": 0
      },
      "text/plain": [
       "HBox(children=(FloatProgress(value=0.0, max=126.0), HTML(value='')))"
      ]
     },
     "metadata": {},
     "output_type": "display_data"
    },
    {
     "name": "stdout",
     "output_type": "stream",
     "text": [
      "current_train_loss = 1.92770, current_train_acc = 0.43100\n",
      "Validating...\n",
      "train_loss = 1.92770,  train_acc = 0.43100, val_loss = 2.07565, val_acc = 0.39583\n",
      "\n",
      "\n",
      "================================================================================\n",
      "Epoch 33/50 :\n"
     ]
    },
    {
     "data": {
      "application/vnd.jupyter.widget-view+json": {
       "model_id": "57b5f440a96c4e9c8c261ff5773a6ca5",
       "version_major": 2,
       "version_minor": 0
      },
      "text/plain": [
       "HBox(children=(FloatProgress(value=0.0, max=126.0), HTML(value='')))"
      ]
     },
     "metadata": {},
     "output_type": "display_data"
    },
    {
     "name": "stdout",
     "output_type": "stream",
     "text": [
      "current_train_loss = 1.90480, current_train_acc = 0.43856\n",
      "Validating...\n",
      "train_loss = 1.90480,  train_acc = 0.43856, val_loss = 2.05293, val_acc = 0.41848\n",
      "\n",
      "\n",
      "================================================================================\n",
      "Epoch 34/50 :\n"
     ]
    },
    {
     "data": {
      "application/vnd.jupyter.widget-view+json": {
       "model_id": "bf6ba6872fd748778a32d55c9fe090ce",
       "version_major": 2,
       "version_minor": 0
      },
      "text/plain": [
       "HBox(children=(FloatProgress(value=0.0, max=126.0), HTML(value='')))"
      ]
     },
     "metadata": {},
     "output_type": "display_data"
    },
    {
     "name": "stdout",
     "output_type": "stream",
     "text": [
      "current_train_loss = 1.90639, current_train_acc = 0.44077\n",
      "Validating...\n",
      "train_loss = 1.90639,  train_acc = 0.44077, val_loss = 2.05658, val_acc = 0.41236\n",
      "\n",
      "\n",
      "================================================================================\n",
      "Epoch 35/50 :\n"
     ]
    },
    {
     "data": {
      "application/vnd.jupyter.widget-view+json": {
       "model_id": "ef054d1d4a204de1aa767d66b2a6dc01",
       "version_major": 2,
       "version_minor": 0
      },
      "text/plain": [
       "HBox(children=(FloatProgress(value=0.0, max=126.0), HTML(value='')))"
      ]
     },
     "metadata": {},
     "output_type": "display_data"
    },
    {
     "name": "stdout",
     "output_type": "stream",
     "text": [
      "current_train_loss = 1.89678, current_train_acc = 0.44183\n",
      "Validating...\n",
      "train_loss = 1.89678,  train_acc = 0.44183, val_loss = 1.98979, val_acc = 0.42844\n",
      "\n",
      "Saving model...\n",
      "\n",
      "================================================================================\n",
      "Epoch 36/50 :\n"
     ]
    },
    {
     "data": {
      "application/vnd.jupyter.widget-view+json": {
       "model_id": "8496a03952b44d5685500ae2e4230706",
       "version_major": 2,
       "version_minor": 0
      },
      "text/plain": [
       "HBox(children=(FloatProgress(value=0.0, max=126.0), HTML(value='')))"
      ]
     },
     "metadata": {},
     "output_type": "display_data"
    },
    {
     "name": "stdout",
     "output_type": "stream",
     "text": [
      "current_train_loss = 1.86305, current_train_acc = 0.44911\n",
      "Validating...\n",
      "train_loss = 1.86305,  train_acc = 0.44911, val_loss = 1.98548, val_acc = 0.42459\n",
      "\n",
      "Saving model...\n",
      "\n",
      "================================================================================\n",
      "Epoch 37/50 :\n"
     ]
    },
    {
     "data": {
      "application/vnd.jupyter.widget-view+json": {
       "model_id": "345a3ecb2c0e49fab5d8cd417cd0e63b",
       "version_major": 2,
       "version_minor": 0
      },
      "text/plain": [
       "HBox(children=(FloatProgress(value=0.0, max=126.0), HTML(value='')))"
      ]
     },
     "metadata": {},
     "output_type": "display_data"
    },
    {
     "name": "stdout",
     "output_type": "stream",
     "text": [
      "current_train_loss = 1.86318, current_train_acc = 0.45272\n",
      "Validating...\n",
      "train_loss = 1.86318,  train_acc = 0.45272, val_loss = 1.98069, val_acc = 0.43071\n",
      "\n",
      "Saving model...\n",
      "\n",
      "================================================================================\n",
      "Epoch 38/50 :\n"
     ]
    },
    {
     "data": {
      "application/vnd.jupyter.widget-view+json": {
       "model_id": "46d70ba199ff4bee83e5c26906963115",
       "version_major": 2,
       "version_minor": 0
      },
      "text/plain": [
       "HBox(children=(FloatProgress(value=0.0, max=126.0), HTML(value='')))"
      ]
     },
     "metadata": {},
     "output_type": "display_data"
    },
    {
     "name": "stdout",
     "output_type": "stream",
     "text": [
      "current_train_loss = 1.85077, current_train_acc = 0.45684\n",
      "Validating...\n",
      "train_loss = 1.85077,  train_acc = 0.45684, val_loss = 2.00725, val_acc = 0.43048\n",
      "\n",
      "\n",
      "================================================================================\n",
      "Epoch 39/50 :\n"
     ]
    },
    {
     "data": {
      "application/vnd.jupyter.widget-view+json": {
       "model_id": "445efc21babd4337b17ca18580ee5cac",
       "version_major": 2,
       "version_minor": 0
      },
      "text/plain": [
       "HBox(children=(FloatProgress(value=0.0, max=126.0), HTML(value='')))"
      ]
     },
     "metadata": {},
     "output_type": "display_data"
    },
    {
     "name": "stdout",
     "output_type": "stream",
     "text": [
      "current_train_loss = 1.84309, current_train_acc = 0.45833\n",
      "Validating...\n",
      "train_loss = 1.84309,  train_acc = 0.45833, val_loss = 1.95695, val_acc = 0.43727\n",
      "\n",
      "Saving model...\n",
      "\n",
      "================================================================================\n",
      "Epoch 40/50 :\n"
     ]
    },
    {
     "data": {
      "application/vnd.jupyter.widget-view+json": {
       "model_id": "ffa55dd2a6c941e8af7298d3e136b059",
       "version_major": 2,
       "version_minor": 0
      },
      "text/plain": [
       "HBox(children=(FloatProgress(value=0.0, max=126.0), HTML(value='')))"
      ]
     },
     "metadata": {},
     "output_type": "display_data"
    },
    {
     "name": "stdout",
     "output_type": "stream",
     "text": [
      "current_train_loss = 1.82024, current_train_acc = 0.46185\n",
      "Validating...\n",
      "train_loss = 1.82024,  train_acc = 0.46185, val_loss = 1.95085, val_acc = 0.43909\n",
      "\n",
      "Saving model...\n",
      "\n",
      "================================================================================\n",
      "Epoch 41/50 :\n"
     ]
    },
    {
     "data": {
      "application/vnd.jupyter.widget-view+json": {
       "model_id": "6df444d246a146d9983b9d828b98d96f",
       "version_major": 2,
       "version_minor": 0
      },
      "text/plain": [
       "HBox(children=(FloatProgress(value=0.0, max=126.0), HTML(value='')))"
      ]
     },
     "metadata": {},
     "output_type": "display_data"
    },
    {
     "name": "stdout",
     "output_type": "stream",
     "text": [
      "current_train_loss = 1.81360, current_train_acc = 0.46855\n",
      "Validating...\n",
      "train_loss = 1.81360,  train_acc = 0.46855, val_loss = 1.91282, val_acc = 0.44520\n",
      "\n",
      "Saving model...\n",
      "\n",
      "================================================================================\n",
      "Epoch 42/50 :\n"
     ]
    },
    {
     "data": {
      "application/vnd.jupyter.widget-view+json": {
       "model_id": "3e3849919a6b4894a4207142e0d7dcb8",
       "version_major": 2,
       "version_minor": 0
      },
      "text/plain": [
       "HBox(children=(FloatProgress(value=0.0, max=126.0), HTML(value='')))"
      ]
     },
     "metadata": {},
     "output_type": "display_data"
    },
    {
     "name": "stdout",
     "output_type": "stream",
     "text": [
      "current_train_loss = 1.80392, current_train_acc = 0.46446\n",
      "Validating...\n",
      "train_loss = 1.80392,  train_acc = 0.46446, val_loss = 1.92977, val_acc = 0.44112\n",
      "\n",
      "\n",
      "================================================================================\n",
      "Epoch 43/50 :\n"
     ]
    },
    {
     "data": {
      "application/vnd.jupyter.widget-view+json": {
       "model_id": "2abf778947d544c6bb4be85fd41d7a36",
       "version_major": 2,
       "version_minor": 0
      },
      "text/plain": [
       "HBox(children=(FloatProgress(value=0.0, max=126.0), HTML(value='')))"
      ]
     },
     "metadata": {},
     "output_type": "display_data"
    },
    {
     "name": "stdout",
     "output_type": "stream",
     "text": [
      "current_train_loss = 1.77852, current_train_acc = 0.47374\n",
      "Validating...\n",
      "train_loss = 1.77852,  train_acc = 0.47374, val_loss = 1.81660, val_acc = 0.49796\n",
      "\n",
      "Saving model...\n",
      "\n",
      "================================================================================\n",
      "Epoch 44/50 :\n"
     ]
    },
    {
     "data": {
      "application/vnd.jupyter.widget-view+json": {
       "model_id": "96a29912497f4e69812a551d98907b14",
       "version_major": 2,
       "version_minor": 0
      },
      "text/plain": [
       "HBox(children=(FloatProgress(value=0.0, max=126.0), HTML(value='')))"
      ]
     },
     "metadata": {},
     "output_type": "display_data"
    },
    {
     "name": "stdout",
     "output_type": "stream",
     "text": [
      "current_train_loss = 1.78647, current_train_acc = 0.47272\n",
      "Validating...\n",
      "train_loss = 1.78647,  train_acc = 0.47272, val_loss = 1.84496, val_acc = 0.46445\n",
      "\n",
      "\n",
      "================================================================================\n",
      "Epoch 45/50 :\n"
     ]
    },
    {
     "data": {
      "application/vnd.jupyter.widget-view+json": {
       "model_id": "3b1914a301b94b9eaf6b6d3bfb813498",
       "version_major": 2,
       "version_minor": 0
      },
      "text/plain": [
       "HBox(children=(FloatProgress(value=0.0, max=126.0), HTML(value='')))"
      ]
     },
     "metadata": {},
     "output_type": "display_data"
    },
    {
     "name": "stdout",
     "output_type": "stream",
     "text": [
      "current_train_loss = 1.76783, current_train_acc = 0.47852\n",
      "Validating...\n",
      "train_loss = 1.76783,  train_acc = 0.47852, val_loss = 1.90998, val_acc = 0.45448\n",
      "\n",
      "\n",
      "================================================================================\n",
      "Epoch 46/50 :\n"
     ]
    },
    {
     "data": {
      "application/vnd.jupyter.widget-view+json": {
       "model_id": "b2aeedd71b0d40e599526c36340e9a51",
       "version_major": 2,
       "version_minor": 0
      },
      "text/plain": [
       "HBox(children=(FloatProgress(value=0.0, max=126.0), HTML(value='')))"
      ]
     },
     "metadata": {},
     "output_type": "display_data"
    },
    {
     "name": "stdout",
     "output_type": "stream",
     "text": [
      "current_train_loss = 1.76307, current_train_acc = 0.47730\n",
      "Validating...\n",
      "train_loss = 1.76307,  train_acc = 0.47730, val_loss = 1.84891, val_acc = 0.45312\n",
      "\n",
      "\n",
      "================================================================================\n",
      "Epoch 47/50 :\n"
     ]
    },
    {
     "data": {
      "application/vnd.jupyter.widget-view+json": {
       "model_id": "dac8507e261442af91ca690d2d344235",
       "version_major": 2,
       "version_minor": 0
      },
      "text/plain": [
       "HBox(children=(FloatProgress(value=0.0, max=126.0), HTML(value='')))"
      ]
     },
     "metadata": {},
     "output_type": "display_data"
    },
    {
     "name": "stdout",
     "output_type": "stream",
     "text": [
      "current_train_loss = 1.74546, current_train_acc = 0.48318\n",
      "Validating...\n",
      "train_loss = 1.74546,  train_acc = 0.48318, val_loss = 1.80447, val_acc = 0.48958\n",
      "\n",
      "Saving model...\n",
      "\n",
      "================================================================================\n",
      "Epoch 48/50 :\n"
     ]
    },
    {
     "data": {
      "application/vnd.jupyter.widget-view+json": {
       "model_id": "87302f2e95444d188a16e27bd06e8da9",
       "version_major": 2,
       "version_minor": 0
      },
      "text/plain": [
       "HBox(children=(FloatProgress(value=0.0, max=126.0), HTML(value='')))"
      ]
     },
     "metadata": {},
     "output_type": "display_data"
    },
    {
     "name": "stdout",
     "output_type": "stream",
     "text": [
      "current_train_loss = 1.73239, current_train_acc = 0.48762\n",
      "Validating...\n",
      "train_loss = 1.73239,  train_acc = 0.48762, val_loss = 1.83948, val_acc = 0.47532\n",
      "\n",
      "\n",
      "================================================================================\n",
      "Epoch 49/50 :\n"
     ]
    },
    {
     "data": {
      "application/vnd.jupyter.widget-view+json": {
       "model_id": "85f6459828dd46c0bcac958826bdccf3",
       "version_major": 2,
       "version_minor": 0
      },
      "text/plain": [
       "HBox(children=(FloatProgress(value=0.0, max=126.0), HTML(value='')))"
      ]
     },
     "metadata": {},
     "output_type": "display_data"
    },
    {
     "name": "stdout",
     "output_type": "stream",
     "text": [
      "current_train_loss = 1.74222, current_train_acc = 0.48546\n",
      "Validating...\n",
      "train_loss = 1.74222,  train_acc = 0.48546, val_loss = 1.83707, val_acc = 0.47101\n",
      "\n",
      "\n",
      "================================================================================\n",
      "Epoch 50/50 :\n"
     ]
    },
    {
     "data": {
      "application/vnd.jupyter.widget-view+json": {
       "model_id": "0ef4d78fa88c4bce82d5b36cd02ad4a8",
       "version_major": 2,
       "version_minor": 0
      },
      "text/plain": [
       "HBox(children=(FloatProgress(value=0.0, max=126.0), HTML(value='')))"
      ]
     },
     "metadata": {},
     "output_type": "display_data"
    },
    {
     "name": "stdout",
     "output_type": "stream",
     "text": [
      "current_train_loss = 1.71756, current_train_acc = 0.49031\n",
      "Validating...\n",
      "train_loss = 1.71756,  train_acc = 0.49031, val_loss = 1.81660, val_acc = 0.46966\n",
      "\n",
      "\n",
      "================================================================================\n",
      "Finish training.\n"
     ]
    }
   ],
   "source": [
    "## Train model\n",
    "\n",
    "# print(\"Adding model to tensorboard\")\n",
    "# sample_batched = next(train_dataloader)\n",
    "# data, label = sample_batched['raw_signal'], sample_batched['label']\n",
    "# writer.add_graph(conv1d_model, data)\n",
    "\n",
    "model_added =  False \n",
    "num_epochs = 50\n",
    "n_iter = 0\n",
    "best_acc_loss = np.inf\n",
    "checkpoint = train_batches\n",
    "\n",
    "print(\"Start training...\")\n",
    "for epoch in range(num_epochs):\n",
    "    train_losses = []\n",
    "    train_accs = []\n",
    "    val_losses = []\n",
    "    val_accs  = []\n",
    "\n",
    "#     train_iter  = iter(train_dataloader)\n",
    "#     val_iter  = iter(val_dataloader)\n",
    "    \n",
    "    print('Epoch %d/%d :' %(epoch +1, num_epochs))\n",
    "#     print('[Training phase] : ', end='')\n",
    "    \n",
    "    for i_batch, sample_batched in tqdm.notebook.tqdm(enumerate(train_dataloader), total=train_batches):\n",
    "#         sample_batched = next(train_iter)\n",
    "        n_iter += 1\n",
    "        data, label = sample_batched['raw_signal'], sample_batched['label']\n",
    "        \n",
    "        if not model_added:\n",
    "            print(\"Adding model to tensorboard...\\n\")\n",
    "            writer.add_graph(conv1d_model, data)\n",
    "            model_added = True\n",
    "            \n",
    "#         conv1d_model.train()\n",
    "        \n",
    "        ## forward + backward + optimize\n",
    "        outputs = conv1d_model(data)\n",
    "        loss = criterion(outputs, label)\n",
    "        loss.backward()\n",
    "        optimizer.step()\n",
    "        optimizer.zero_grad()\n",
    "        \n",
    "        ## compute statistics\n",
    "        running_loss = loss.item()\n",
    "        _, y_pred = torch.max(F.softmax(outputs, dim=1),1)\n",
    "#         print(y_pred, \"vs \",label)\n",
    "        correct = (y_pred == label).sum().item()\n",
    "        running_acc = correct/label.size(0)\n",
    "        \n",
    "        \n",
    "        train_losses.append(running_loss)\n",
    "        train_accs.append(running_acc)\n",
    "        \n",
    "        sys.stdout.write(\"\\rcurrent_train_loss = %.5f, current_train_acc = %.5f\" \n",
    "                         % (np.mean(train_losses), np.mean(train_accs)))\n",
    "        sys.stdout.flush()\n",
    "\n",
    "        #=======================\n",
    "        # print every a number n iterations + validate model\n",
    "        #=======================        \n",
    "        if n_iter % checkpoint == 0:\n",
    "            train_loss = np.mean(train_losses)\n",
    "            train_acc = np.mean(train_accs)\n",
    "        \n",
    "            writer.add_scalar('train/loss', train_loss, n_iter)\n",
    "            writer.add_scalar('train/acc', train_acc, n_iter)\n",
    "                    \n",
    "            ## valid model\n",
    "#             print(\"[Validating phase] :\", end ='')\n",
    "            print('\\nValidating...')\n",
    "            conv1d_model.eval()\n",
    "            with torch.no_grad():\n",
    "                for id_val_batch, val_batched in enumerate(val_dataloader):\n",
    "        #             val_batched = next(val_iter)\n",
    "                    val_data, val_label = val_batched['raw_signal'], val_batched['label']\n",
    "#                     conv1d_model.eval()\n",
    "                    val_outputs = conv1d_model(val_data)\n",
    "                    val_loss = criterion(val_outputs, val_label).item()\n",
    "                    _, val_pred = torch.max(F.softmax(val_outputs, dim=1),1)\n",
    "                    val_correct = (val_pred == val_label).sum().item()\n",
    "                    val_acc = val_correct / val_label.size(0)\n",
    "\n",
    "#                     sys.stdout.write(\"\\r val_loss = %.5f,  val_acc = %.5f\" % (val_loss, val_acc))\n",
    "#                     sys.stdout.flush()\n",
    "\n",
    "                    val_losses.append(val_loss)\n",
    "                    val_accs.append(val_acc)\n",
    "                \n",
    "            val_loss = np.mean(val_losses)\n",
    "            val_acc  = np.mean(val_accs)\n",
    "#             print('val_loss = %.5f, val_acc = %.5f' % (val_loss, val_acc))\n",
    "            writer.add_scalar('val/loss', val_loss, n_iter)\n",
    "            writer.add_scalar('val/acc', val_acc, n_iter)\n",
    "\n",
    "            print(\"val_loss = %.5f, val_acc = %.5f\\n\" \n",
    "                             % (val_loss, val_acc))\n",
    "#             sys.stdout.flush()\n",
    "            if val_loss < best_acc_loss : \n",
    "                best_acc_loss = val_loss\n",
    "                sys.stdout.write(\"Saving model...\\n\")\n",
    "                torch.save(conv1d_model, 'conv1d_test.pt')\n",
    "                \n",
    "            conv1d_model.train()\n",
    "            train_losses = []\n",
    "            train_accs = []\n",
    "            val_losses = []\n",
    "            val_accs  = []\n",
    "            \n",
    "#     writer.add_scalar('train/loss', train_loss, epoch)\n",
    "#     writer.add_scalar('train/acc', train_acc, epoch)\n",
    "#     writer.add_scalar('val/loss', val_loss, epoch)\n",
    "#     writer.add_scalar('val/acc', val_acc, epoch)\n",
    "    \n",
    "    print(\"=\" * 80 )\n",
    "    \n",
    "print(\"Finish training.\")\n",
    "writer.close()"
   ]
  },
  {
   "cell_type": "code",
   "execution_count": 25,
   "metadata": {},
   "outputs": [],
   "source": [
    "# x =  0\n",
    "# for i_batch, sample in tqdm.notebook.tqdm(enumerate(train_dataloader), total=len(train_dataloader)):\n",
    "#     label = sample['label']\n",
    "#     print(label)"
   ]
  },
  {
   "cell_type": "code",
   "execution_count": 26,
   "metadata": {},
   "outputs": [
    {
     "data": {
      "text/plain": [
       "False"
      ]
     },
     "execution_count": 26,
     "metadata": {},
     "output_type": "execute_result"
    }
   ],
   "source": [
    "torch.cuda.is_available()"
   ]
  },
  {
   "cell_type": "markdown",
   "metadata": {},
   "source": [
    "### Load pretrained model "
   ]
  },
  {
   "cell_type": "code",
   "execution_count": 33,
   "metadata": {},
   "outputs": [
    {
     "name": "stdout",
     "output_type": "stream",
     "text": [
      "1.8254387378692627\n",
      "0.453125\n"
     ]
    }
   ],
   "source": [
    "load_conv1d_model = torch.load('conv1d_test.pt')\n",
    "load_conv1d_model.eval()\n",
    "for id_val_batch, val_batched in enumerate(val_dataloader):\n",
    "        \n",
    "    val_data, val_label = val_batched['raw_signal'], val_batched['label']\n",
    "    val_outputs = load_conv1d_model(val_data)\n",
    "    val_loss = criterion(val_outputs, val_label).item()\n",
    "    _, val_pred = torch.max(F.softmax(val_outputs, dim=1),1)\n",
    "    val_correct = (val_pred == val_label).sum().item()\n",
    "    val_acc = val_correct / val_label.size(0)\n",
    "\n",
    "    print(val_loss)\n",
    "    print(val_acc)\n",
    "    \n",
    "    break"
   ]
  }
 ],
 "metadata": {
  "kernelspec": {
   "display_name": "Python 3",
   "language": "python",
   "name": "python3"
  },
  "language_info": {
   "codemirror_mode": {
    "name": "ipython",
    "version": 3
   },
   "file_extension": ".py",
   "mimetype": "text/x-python",
   "name": "python",
   "nbconvert_exporter": "python",
   "pygments_lexer": "ipython3",
   "version": "3.5.2"
  }
 },
 "nbformat": 4,
 "nbformat_minor": 2
}
