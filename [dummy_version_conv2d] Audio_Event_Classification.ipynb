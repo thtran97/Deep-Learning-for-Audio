{
 "cells": [
  {
   "cell_type": "code",
   "execution_count": 1,
   "metadata": {},
   "outputs": [
    {
     "name": "stderr",
     "output_type": "stream",
     "text": [
      "/home/renault/env/lib/python3.5/site-packages/tensorboard/compat/tensorflow_stub/dtypes.py:541: FutureWarning: Passing (type, 1) or '1type' as a synonym of type is deprecated; in a future version of numpy, it will be understood as (type, (1,)) / '(1,)type'.\n",
      "  _np_qint8 = np.dtype([(\"qint8\", np.int8, 1)])\n",
      "/home/renault/env/lib/python3.5/site-packages/tensorboard/compat/tensorflow_stub/dtypes.py:542: FutureWarning: Passing (type, 1) or '1type' as a synonym of type is deprecated; in a future version of numpy, it will be understood as (type, (1,)) / '(1,)type'.\n",
      "  _np_quint8 = np.dtype([(\"quint8\", np.uint8, 1)])\n",
      "/home/renault/env/lib/python3.5/site-packages/tensorboard/compat/tensorflow_stub/dtypes.py:543: FutureWarning: Passing (type, 1) or '1type' as a synonym of type is deprecated; in a future version of numpy, it will be understood as (type, (1,)) / '(1,)type'.\n",
      "  _np_qint16 = np.dtype([(\"qint16\", np.int16, 1)])\n",
      "/home/renault/env/lib/python3.5/site-packages/tensorboard/compat/tensorflow_stub/dtypes.py:544: FutureWarning: Passing (type, 1) or '1type' as a synonym of type is deprecated; in a future version of numpy, it will be understood as (type, (1,)) / '(1,)type'.\n",
      "  _np_quint16 = np.dtype([(\"quint16\", np.uint16, 1)])\n",
      "/home/renault/env/lib/python3.5/site-packages/tensorboard/compat/tensorflow_stub/dtypes.py:545: FutureWarning: Passing (type, 1) or '1type' as a synonym of type is deprecated; in a future version of numpy, it will be understood as (type, (1,)) / '(1,)type'.\n",
      "  _np_qint32 = np.dtype([(\"qint32\", np.int32, 1)])\n",
      "/home/renault/env/lib/python3.5/site-packages/tensorboard/compat/tensorflow_stub/dtypes.py:550: FutureWarning: Passing (type, 1) or '1type' as a synonym of type is deprecated; in a future version of numpy, it will be understood as (type, (1,)) / '(1,)type'.\n",
      "  np_resource = np.dtype([(\"resource\", np.ubyte, 1)])\n"
     ]
    }
   ],
   "source": [
    "import numpy as np\n",
    "np.random.seed(1001)\n",
    "\n",
    "import os\n",
    "import sys\n",
    "import shutil\n",
    "\n",
    "import IPython\n",
    "import IPython.display as ipd  # To play sound in the notebook\n",
    "\n",
    "import matplotlib\n",
    "import matplotlib.pyplot as plt\n",
    "import pandas as pd\n",
    "import seaborn as sns\n",
    "# from tqdm import tqdm_notebook, tqdm\n",
    "import tqdm\n",
    "\n",
    "import librosa \n",
    "import wave\n",
    "\n",
    "import torch \n",
    "import torchaudio\n",
    "from torch.utils.data import Dataset, DataLoader\n",
    "from torch.utils.data.dataset import random_split\n",
    "\n",
    "from torchvision import transforms, utils\n",
    "\n",
    "from torch import autograd\n",
    "from torch.autograd import Variable\n",
    "import torch.nn.functional as F\n",
    "from torch.nn import Linear, ReLU, LeakyReLU, CrossEntropyLoss, Sequential, Conv2d, MaxPool2d, Module, AdaptiveMaxPool2d\n",
    "from torch.nn import Softmax, LogSoftmax, BatchNorm1d, BatchNorm2d, Dropout, Flatten\n",
    "from torch.nn import CrossEntropyLoss, NLLLoss\n",
    "from torch.optim import Adam, SGD\n",
    "\n",
    "from torch.utils.tensorboard import SummaryWriter\n",
    "\n",
    "\n",
    "dataset_path = '/home/renault/Projects/Statet-of-the-Art/Dataset/freesound-audio-tagging/'"
   ]
  },
  {
   "cell_type": "markdown",
   "metadata": {},
   "source": [
    "## 1. Exploratory Data Analysis"
   ]
  },
  {
   "cell_type": "markdown",
   "metadata": {},
   "source": [
    "### Load data"
   ]
  },
  {
   "cell_type": "code",
   "execution_count": 2,
   "metadata": {},
   "outputs": [],
   "source": [
    "# ## load dataset and save as dataframe\n",
    "# train = pd.read_csv(os.path.join(dataset_path,\"train.csv\"))\n",
    "# test = pd.read_csv(os.path.join(dataset_path,\"test_post_competition.csv\"))"
   ]
  },
  {
   "cell_type": "code",
   "execution_count": 3,
   "metadata": {},
   "outputs": [],
   "source": [
    "# print(\"Number of training examples=\", train.shape[0], \"  Number of classes in training set=\", len(train.label.unique()))\n",
    "# print(\"Number of test examples=\", test.shape[0], \"  Number of classes in test set=\", len(test.label.unique()))\n",
    "# train.head()"
   ]
  },
  {
   "cell_type": "markdown",
   "metadata": {},
   "source": [
    "### Distribution of Categories"
   ]
  },
  {
   "cell_type": "code",
   "execution_count": 4,
   "metadata": {},
   "outputs": [],
   "source": [
    "# category_group = train.groupby(['label', 'manually_verified']).count()\n",
    "# plot = category_group.unstack().reindex(category_group.unstack().sum(axis=1).sort_values().index)\\\n",
    "#           .plot(kind='bar', stacked=True, title=\"Number of Audio Samples per Category\", figsize=(16,10))\n",
    "# plot.set_xlabel(\"Category\")\n",
    "# plot.set_ylabel(\"Number of Samples\")\n",
    "# print('Minimum samples per category = ', min(train.label.value_counts()))\n",
    "# print('Maximum samples per category = ', max(train.label.value_counts()))"
   ]
  },
  {
   "cell_type": "markdown",
   "metadata": {},
   "source": [
    "### Test listening audio "
   ]
  },
  {
   "cell_type": "code",
   "execution_count": 5,
   "metadata": {},
   "outputs": [],
   "source": [
    "# fname = dataset_path + 'audio_train/' + '00044347.wav'   # Hi-hat\n",
    "# ipd.Audio(fname)"
   ]
  },
  {
   "cell_type": "code",
   "execution_count": 6,
   "metadata": {},
   "outputs": [],
   "source": [
    "# ## plot wave using librosa \n",
    "# wav, sr = librosa.load(fname)\n",
    "# print(\"Sampling (frame) rate = \", sr)\n",
    "# print(\"Total samples (frames) = \", len(wav))\n",
    "# print(\"Duration = \", len(wav)/sr)\n",
    "\n",
    "# ## plot audio frames\n",
    "# plt.plot(wav, 'r--')\n",
    "# plt.title(\"Audio frames\")\n",
    "# plt.show()\n",
    "\n",
    "# ## zoom in on first 500 frames\n",
    "# plt.figure(figsize=(16,4))\n",
    "# plt.plot(wav[:500],'--')\n",
    "# plt.plot(wav[:500],'.')\n",
    "# plt.title(\"First 500 frames\")\n",
    "# plt.show()"
   ]
  },
  {
   "cell_type": "markdown",
   "metadata": {},
   "source": [
    "### Audio Length Distribution"
   ]
  },
  {
   "cell_type": "code",
   "execution_count": 7,
   "metadata": {},
   "outputs": [],
   "source": [
    "# train['nframes'] = train['fname'].apply(lambda f: wave.open(dataset_path+'audio_train/' + f).getnframes())\n",
    "# test['nframes'] = test['fname'].apply(lambda f: wave.open(dataset_path+'audio_test/' + f).getnframes())"
   ]
  },
  {
   "cell_type": "code",
   "execution_count": 8,
   "metadata": {},
   "outputs": [],
   "source": [
    "# train.head()"
   ]
  },
  {
   "cell_type": "code",
   "execution_count": 9,
   "metadata": {},
   "outputs": [],
   "source": [
    "# _, ax = plt.subplots(figsize=(16, 4))\n",
    "# sns.violinplot(ax=ax, x=\"label\", y=\"nframes\", data=train)\n",
    "# plt.xticks(rotation=90)\n",
    "# plt.title('Distribution of audio frames, per label', fontsize=16)\n",
    "# plt.show()"
   ]
  },
  {
   "cell_type": "code",
   "execution_count": 10,
   "metadata": {},
   "outputs": [],
   "source": [
    "# fig, axes = plt.subplots(nrows=1, ncols=2, figsize=(16,5))\n",
    "# train.nframes.hist(bins=100, ax=axes[0])\n",
    "# test.nframes.hist(bins=100, ax=axes[1])\n",
    "# plt.suptitle('Frame Length Distribution in Train and Test', ha='center', fontsize='large')"
   ]
  },
  {
   "cell_type": "markdown",
   "metadata": {},
   "source": [
    "# 2. Building from scratch a simple CNN-2D using MFCCs"
   ]
  },
  {
   "cell_type": "markdown",
   "metadata": {},
   "source": [
    "### Loading audio using Torch Audio"
   ]
  },
  {
   "cell_type": "code",
   "execution_count": 25,
   "metadata": {},
   "outputs": [
    {
     "name": "stdout",
     "output_type": "stream",
     "text": [
      "Sampling (frame) rate =  44100\n",
      "Total samples (frames) =  617400\n",
      "Duration =  14.0\n"
     ]
    },
    {
     "data": {
      "image/png": "[encoded data removed]",
      "text/plain": [
       "<Figure size 432x288 with 1 Axes>"
      ]
     },
     "metadata": {
      "needs_background": "light"
     },
     "output_type": "display_data"
    },
    {
     "name": "stdout",
     "output_type": "stream",
     "text": [
      "torch.Size([224000, 1])\n",
      "224000\n"
     ]
    },
    {
     "data": {
      "image/png": "[encoded data removed]",
      "text/plain": [
       "<Figure size 432x288 with 1 Axes>"
      ]
     },
     "metadata": {
      "needs_background": "light"
     },
     "output_type": "display_data"
    }
   ],
   "source": [
    "fname = dataset_path + 'audio_train/' + '00044347.wav'   # Hi-hat\n",
    "wav, sr = torchaudio.load(fname)  ## wav is now a tensor, not an array\n",
    "print(\"Sampling (frame) rate = \", sr)\n",
    "print(\"Total samples (frames) = \", wav.size(1))\n",
    "print(\"Duration = \", wav.size(1)/sr)\n",
    "\n",
    "## plot audio frames\n",
    "plt.plot(wav.t().numpy()[:500], 'r--')\n",
    "plt.title(\"Audio frames at %d Hz\" % sr)\n",
    "plt.show()\n",
    "\n",
    "# ## zoom in on first 500 frames\n",
    "# plt.figure(figsize=(16,4))\n",
    "# plt.plot(wav[:500],'--')\n",
    "# plt.plot(wav[:500],'.')\n",
    "# plt.title(\"First 500 frames\")\n",
    "# plt.show()\n",
    "\n",
    "resampled_wav = torchaudio.transforms.Resample(sr, 16000)(wav)\n",
    "print(resampled_wav.t().size())\n",
    "print(resampled_wav.size(1))\n",
    "plt.plot(resampled_wav.t()[:500].numpy())\n",
    "plt.title(\"Resampled waves at 16kHz\")\n",
    "plt.show()"
   ]
  },
  {
   "cell_type": "markdown",
   "metadata": {},
   "source": [
    "### Generating MFCC using Librosa"
   ]
  },
  {
   "cell_type": "code",
   "execution_count": 16,
   "metadata": {},
   "outputs": [
    {
     "data": {
      "text/plain": [
       "(40, 173)"
      ]
     },
     "execution_count": 16,
     "metadata": {},
     "output_type": "execute_result"
    }
   ],
   "source": [
    "mfcc = librosa.feature.mfcc(wav.t().numpy().squeeze()[:sr*2], sr = sr, n_mfcc = 40, hop_length=512)\n",
    "mfcc.shape"
   ]
  },
  {
   "cell_type": "code",
   "execution_count": 21,
   "metadata": {},
   "outputs": [
    {
     "data": {
      "image/png": "[encoded data removed]",
      "text/plain": [
       "<Figure size 1080x288 with 2 Axes>"
      ]
     },
     "metadata": {
      "needs_background": "light"
     },
     "output_type": "display_data"
    }
   ],
   "source": [
    "plt.figure(figsize=(15,4))\n",
    "plt.imshow(mfcc, cmap = 'hot', interpolation = 'nearest')\n",
    "plt.colorbar()\n",
    "plt.title(\"MFCC features\")\n",
    "plt.show()"
   ]
  },
  {
   "cell_type": "code",
   "execution_count": 22,
   "metadata": {},
   "outputs": [
    {
     "name": "stdout",
     "output_type": "stream",
     "text": [
      "(40, 63)\n"
     ]
    },
    {
     "data": {
      "image/png": "[encoded data removed]",
      "text/plain": [
       "<Figure size 1080x288 with 2 Axes>"
      ]
     },
     "metadata": {
      "needs_background": "light"
     },
     "output_type": "display_data"
    }
   ],
   "source": [
    "resampled_mfcc = librosa.feature.mfcc(resampled_wav.t().numpy().squeeze()[:16000*2], sr = 16000, n_mfcc = 40, hop_length=512)\n",
    "print(resampled_mfcc.shape)\n",
    "plt.figure(figsize=(15,4))\n",
    "plt.imshow(resampled_mfcc, cmap = 'hot', interpolation = 'nearest')\n",
    "plt.colorbar()\n",
    "plt.title(\"MFCC features of resampled wave\")\n",
    "plt.show()"
   ]
  },
  {
   "cell_type": "markdown",
   "metadata": {},
   "source": [
    "### Generating MFCC using torch.audio"
   ]
  },
  {
   "cell_type": "code",
   "execution_count": 46,
   "metadata": {},
   "outputs": [
    {
     "data": {
      "text/plain": [
       "torch.Size([1, 88200])"
      ]
     },
     "execution_count": 46,
     "metadata": {},
     "output_type": "execute_result"
    }
   ],
   "source": [
    "wav[:,:sr*2].size()"
   ]
  },
  {
   "cell_type": "code",
   "execution_count": 63,
   "metadata": {},
   "outputs": [
    {
     "name": "stdout",
     "output_type": "stream",
     "text": [
      "torch.Size([198, 13])\n"
     ]
    },
    {
     "data": {
      "image/png": "[encoded data removed]",
      "text/plain": [
       "<Figure size 1080x288 with 2 Axes>"
      ]
     },
     "metadata": {
      "needs_background": "light"
     },
     "output_type": "display_data"
    }
   ],
   "source": [
    "mfcc = torchaudio.compliance.kaldi.mfcc(resampled_wav[:,:32000])\n",
    "print(mfcc.size())\n",
    "plt.figure(figsize=(15,4))\n",
    "plt.imshow(mfcc, cmap = 'hot', interpolation = 'nearest')\n",
    "plt.colorbar()\n",
    "plt.title(\"MFCC features\")\n",
    "plt.show()"
   ]
  },
  {
   "cell_type": "code",
   "execution_count": 67,
   "metadata": {},
   "outputs": [
    {
     "data": {
      "image/png": "[encoded data removed]",
      "text/plain": [
       "<Figure size 432x288 with 1 Axes>"
      ]
     },
     "metadata": {
      "needs_background": "light"
     },
     "output_type": "display_data"
    },
    {
     "data": {
      "image/png": "[encoded data removed]",
      "text/plain": [
       "<Figure size 432x288 with 1 Axes>"
      ]
     },
     "metadata": {
      "needs_background": "light"
     },
     "output_type": "display_data"
    },
    {
     "name": "stdout",
     "output_type": "stream",
     "text": [
      "torch.Size([1, 128, 1121])\n"
     ]
    }
   ],
   "source": [
    "mel_spectrogram = torchaudio.transforms.MelSpectrogram()(resampled_wav[:3200])\n",
    "plt.imshow(mel_spectrogram[0,:,:].detach().numpy(),cmap='hot')\n",
    "plt.show()\n",
    "mel_spectrogram[0,:,:] = mel_spectrogram.log2()[0,:,:]\n",
    "plt.imshow(mel_spectrogram[0,:,:].detach().numpy(),cmap='hot')\n",
    "plt.show()\n",
    "print(mel_spectrogram.size())"
   ]
  },
  {
   "cell_type": "markdown",
   "metadata": {},
   "source": [
    "### Prepare training dataset"
   ]
  },
  {
   "cell_type": "code",
   "execution_count": 12,
   "metadata": {},
   "outputs": [],
   "source": [
    "# classes = train['label'].unique()\n",
    "# print(classes)\n",
    "# list(classes).index('Saxophone')"
   ]
  },
  {
   "cell_type": "code",
   "execution_count": 2,
   "metadata": {},
   "outputs": [
    {
     "name": "stdout",
     "output_type": "stream",
     "text": [
      "Nb of training samples =  9473\n",
      "Nb of classes =  41\n"
     ]
    }
   ],
   "source": [
    "class AudioDataset(Dataset):\n",
    "    \n",
    "    def __init__(self, csv_file, root_dir=None, sampling_rate=44100, is_labeled = True, transform=None):\n",
    "        self.data = pd.read_csv(csv_file)\n",
    "        self.root_dir = root_dir\n",
    "        self.transform = transform\n",
    "        self.sampling_rate = sampling_rate\n",
    "        self.is_labeled = is_labeled\n",
    "        \n",
    "        print(\"Nb of training samples = \", self.__len__())\n",
    "#         print(transform)\n",
    "        if self.is_labeled :\n",
    "            self.all_classes = list(self.data['label'].unique())\n",
    "            self.n_classes = len(self.all_classes)\n",
    "            print('Nb of classes = ', self.n_classes)\n",
    "\n",
    "    ## len(dataset) return the size of dataset    \n",
    "    def __len__(self):\n",
    "        return self.data.shape[0]\n",
    "    \n",
    "    def get_classes(self):\n",
    "        return self.all_classes\n",
    "    \n",
    "    ## dataset[i] return the ith sample\n",
    "    def __getitem__(self,idx):\n",
    "        if torch.is_tensor(idx):\n",
    "            idx = idx.tolist()\n",
    "            \n",
    "        fname = os.path.join(self.root_dir,\n",
    "                            self.data.iloc[idx,0])\n",
    "        \n",
    "        wav, sr = torchaudio.load(fname, normalization=True)  ## wav is a tensor, not an array\n",
    "        ## Resampling with new sampling_rate\n",
    "        sample = torchaudio.transforms.Resample(sr, self.sampling_rate)(wav)\n",
    "#         sample = wav.t()\n",
    "        \n",
    "        ## Random offset + Padding + Normalization\n",
    "        if self.transform :\n",
    "#             sample_wave = self.transform[0](sample)\n",
    "            sample_features = self.transform(sample)\n",
    "\n",
    "            if self.is_labeled:\n",
    "                label_name = self.data.iloc[idx,1]\n",
    "                label = self.all_classes.index(label_name)\n",
    "                return {'features':sample_features, 'label':label}\n",
    "\n",
    "            else : \n",
    "                return {'features':sample_features}\n",
    "        \n",
    "        else:\n",
    "            return {'raw_signal':sample}\n",
    "    \n",
    "        \n",
    "# ### Test \n",
    "\n",
    "# audio_ds= AudioDataset(csv_file = os.path.join(dataset_path,\"train.csv\"),\n",
    "#                       root_dir  = dataset_path + 'audio_train/',\n",
    "#                       sampling_rate = 16000,\n",
    "#                       is_labeled = True)\n",
    "# classes = audio_ds.get_classes()\n",
    "# print(len(audio_ds))\n",
    "# for i in range(3):\n",
    "#     sample = audio_ds[i]\n",
    "#     print(sample['raw_signal'].size())\n",
    "#     ## plot audio frames\n",
    "#     plt.plot(sample['raw_signal'].t().numpy(), 'r--')\n",
    "#     plt.title(\"Audio frames \" + str(i) + \": \" + classes[(sample['label'])])\n",
    "#     plt.show()\n",
    "\n",
    "class Random_Sample(object):\n",
    "    \n",
    "    def __init__(self, sample_duration, sampling_rate):\n",
    "        self.sample_length = sample_duration * sampling_rate\n",
    "\n",
    "    def __call__(self, sample):\n",
    "        original_audio_length = sample.size(1)\n",
    "        sample = sample.t()\n",
    "        ## random offset / Padding\n",
    "        if original_audio_length > self.sample_length:\n",
    "            max_offset = original_audio_length - self.sample_length\n",
    "            offset = np.random.randint(max_offset)\n",
    "            new_sample = sample[offset:(offset+self.sample_length)].numpy()\n",
    "        else:\n",
    "            if original_audio_length == self.sample_length:\n",
    "                offset = 0\n",
    "            else: \n",
    "                max_offset = self.sample_length - original_audio_length\n",
    "                offset = np.random.randint(max_offset)\n",
    "            ## zero padding \n",
    "            new_sample = np.pad(sample.numpy()[:,0], (offset, self.sample_length - original_audio_length - offset), \"constant\")\n",
    "                \n",
    "        ## Normalize\n",
    "        max_val = np.max(new_sample)\n",
    "        min_val = np.min(new_sample)\n",
    "    \n",
    "        new_sample = (new_sample - min_val)/(max_val - min_val + 1e-6)\n",
    "        new_sample -= 0.5\n",
    "        \n",
    "        return torch.from_numpy(new_sample.reshape(1,-1))\n",
    "    \n",
    "class MFCC_Features(object):\n",
    "    def __init__(self,sampling_rate):\n",
    "        self.sampling_rate = sampling_rate\n",
    "    def __call__(self,sample):\n",
    "        mfcc = torchaudio.compliance.kaldi.mfcc(sample,sample_frequency=self.sampling_rate)\n",
    "        return mfcc\n",
    "\n",
    "class Spectrogram(object):\n",
    "    def __init__(self,sampling_rate):\n",
    "        self.sampling_rate = sampling_rate\n",
    "    def __call__(self,sample):\n",
    "        spectrogram = torchaudio.transforms.Spectrogram()(sample)\n",
    "        spectrogram[0,:,:] = spectrogram.log2()[0,:,:]\n",
    "        return spectrogram\n",
    "    \n",
    "class LogMelSpectrogram(object):\n",
    "    def __init__(self,sampling_rate):\n",
    "        self.sampling_rate = sampling_rate\n",
    "    def __call__(self,sample):\n",
    "        mel_spectrogram = torchaudio.transforms.MelSpectrogram()(sample)\n",
    "        mel_spectrogram[0,:,:] = mel_spectrogram.log2()[0,:,:]\n",
    "        mel_spectrogram[mel_spectrogram == -float('inf')] = 0.0\n",
    "        return mel_spectrogram\n",
    "\n",
    "\n",
    "### Test \n",
    "\n",
    "sampling_rate = 16000\n",
    "transformed_audio_ds= AudioDataset(csv_file = os.path.join(dataset_path,\"train.csv\"),\n",
    "                                   root_dir  = dataset_path + 'audio_train/',\n",
    "                                   sampling_rate = sampling_rate,\n",
    "                                   transform=transforms.Compose(\n",
    "                                       [Random_Sample(sample_duration=2,sampling_rate=sampling_rate),\n",
    "                                        LogMelSpectrogram(sampling_rate = sampling_rate)])\n",
    "                                  )\n",
    "classes = transformed_audio_ds.get_classes()"
   ]
  },
  {
   "cell_type": "code",
   "execution_count": 28,
   "metadata": {},
   "outputs": [],
   "source": [
    "#"
   ]
  },
  {
   "cell_type": "code",
   "execution_count": 77,
   "metadata": {},
   "outputs": [
    {
     "name": "stdout",
     "output_type": "stream",
     "text": [
      "torch.Size([1, 128, 161])\n",
      "tensor([ 0.0000, -3.2227, -0.7940,  0.0000, -4.9624, -4.7480,  0.0000, -4.1306,\n",
      "        -7.3215, -4.5452, -4.3414, -6.2529, -3.5883,  0.0000, -3.4051, -6.7406,\n",
      "        -3.4632, -5.2683, -4.3579, -5.7917, -7.2707, -8.9383, -1.4205, -3.8732,\n",
      "        -1.9382, -2.6192, -1.1900, -1.5619, -1.9377,  2.0887, -1.2684, -7.2188,\n",
      "        -4.9452, -1.3011,  0.2026, -0.2167, -1.8132, -3.3045, -2.2291, -2.1264,\n",
      "        -1.1551, -0.3613,  1.2772,  0.3287, -0.9419, -2.5872, -3.8125, -2.5302,\n",
      "        -1.6613, -2.4219, -0.3237,  0.2183, -1.7875, -3.7976, -5.5703, -2.4855,\n",
      "         1.6987,  4.4940,  3.4554, -0.5230, -1.0296, -2.7492,  2.7668,  4.4704,\n",
      "         3.3994,  5.4981,  4.2291,  0.4261,  3.5192,  4.2120,  3.1411,  3.1520,\n",
      "         3.2946,  1.2060, -2.1157, -0.0718,  1.1066,  1.0922,  1.2242,  2.2814,\n",
      "         3.4714,  4.2418,  6.0572,  5.9249,  1.9014,  2.2305,  4.0563,  2.3073,\n",
      "         3.6104,  4.7505,  4.3864,  3.6992,  1.4963, -1.4420,  3.2217,  4.7787,\n",
      "         4.6485,  4.3714,  2.7154,  2.9951,  6.1473,  4.8279,  3.3663,  3.2809,\n",
      "         3.5295,  1.8073,  2.6829,  1.7069,  1.9842,  3.2500,  1.4952, -2.4726,\n",
      "         3.2215,  6.1289,  4.1391,  4.0462,  3.1364,  1.9045,  2.6912,  3.8672,\n",
      "         0.9331,  1.3888,  2.1733,  2.0297,  1.5355, -0.4422,  0.6098,  2.2795])\n"
     ]
    },
    {
     "data": {
      "image/png": "[encoded data removed]",
      "text/plain": [
       "<Figure size 432x288 with 2 Axes>"
      ]
     },
     "metadata": {
      "needs_background": "light"
     },
     "output_type": "display_data"
    },
    {
     "name": "stdout",
     "output_type": "stream",
     "text": [
      "torch.Size([1, 128, 161])\n",
      "tensor([  0.0000,  -3.8765,  -1.4477,   0.0000,  -0.3722,  -0.1578,   0.0000,\n",
      "          0.9782,  -2.2128,   0.6743,   0.8780,   0.8109,   3.4755,   0.0000,\n",
      "          5.5455,   2.2100,   5.6931,   3.8880,   3.6996,   2.2658,  -0.8788,\n",
      "         -2.5464,  -1.5309,  -2.9504,   1.0641,   0.8362,   2.2655,   0.9694,\n",
      "          0.5937, -14.2678,  -2.1282,  -0.9952,   0.3682,  -0.3355,   0.1752,\n",
      "          0.1796,  -0.0565,   0.1715,  -1.4164,  -4.9928,  -5.2268,  -5.3229,\n",
      "         -8.3567,  -4.2065,  -2.3230,  -1.7153,  -1.8042,  -3.8329, -10.2874,\n",
      "         -6.3555,  -6.2956,  -7.3758,  -5.7168,  -1.9217,  -2.3211,  -4.6614,\n",
      "         -9.1935,  -8.8352,  -9.7791,  -7.4181,  -5.5042,  -6.5776, -10.0770,\n",
      "         -7.5116,  -3.9637,  -3.1991,  -4.0820,  -4.6951,  -5.3760,  -6.6054,\n",
      "         -6.2741,  -7.0763, -12.2202,  -9.3455,  -6.8952,  -6.2169,  -6.1253,\n",
      "         -6.2554,  -6.9456,  -8.8043,  -9.0194, -11.0819, -10.5422,  -8.8042,\n",
      "        -10.1460, -11.2443, -10.0566,  -8.7756,  -9.6594,  -8.4082,  -7.1249,\n",
      "         -8.9497,  -9.5726,  -8.6020, -12.7408, -12.7519, -12.1437,  -9.2716,\n",
      "         -8.3701,  -8.9016, -10.3822, -11.9355, -10.4003,  -8.6154,  -8.1926,\n",
      "         -9.6635, -13.1174, -11.5057, -12.0829, -10.2405, -10.5288, -11.9712,\n",
      "        -11.8726, -11.5443, -11.8360, -12.3573, -14.6358, -12.0126,  -9.5627,\n",
      "         -8.4645,  -9.4938,  -8.9600, -12.2461, -11.3121, -12.4981, -15.3656,\n",
      "        -13.5782, -13.9765])\n"
     ]
    },
    {
     "data": {
      "image/png": "[encoded data removed]",
      "text/plain": [
       "<Figure size 432x288 with 2 Axes>"
      ]
     },
     "metadata": {
      "needs_background": "light"
     },
     "output_type": "display_data"
    },
    {
     "name": "stdout",
     "output_type": "stream",
     "text": [
      "torch.Size([1, 128, 161])\n",
      "tensor([  0.0000,   1.2219,   3.6506,   0.0000, -47.1264, -46.9120,   0.0000,\n",
      "        -48.5184, -51.7094, -46.0914, -45.8877, -48.5066, -45.8419,   0.0000,\n",
      "        -45.6368, -48.9723, -46.9519, -48.7570, -48.8249, -50.2588, -46.9193,\n",
      "        -48.5870, -47.3586, -49.9222, -48.9973, -47.9355, -46.5062, -47.4843,\n",
      "        -47.8601, -49.4904, -50.4921, -49.6701, -54.5785, -51.4464, -49.9587,\n",
      "        -50.4655, -48.0968, -47.4134, -50.5137, -50.2401, -50.9781, -52.5474,\n",
      "        -49.0793, -50.8899, -48.5130, -49.0307, -52.9522, -51.0028, -48.7095,\n",
      "        -49.5113, -49.7463, -49.8283, -48.6527, -49.4993, -51.2575, -52.8785,\n",
      "        -47.6708, -48.5568, -49.5922, -48.1086, -45.9509, -46.2154, -48.5476,\n",
      "        -50.4311, -50.3744, -51.0681, -48.7628, -48.4981, -51.0372, -50.7431,\n",
      "        -49.5164, -49.4659, -47.9101, -48.2429, -51.2481, -48.6639, -49.4830,\n",
      "        -48.7301, -47.8222, -51.1388, -49.9601, -50.3635, -48.2199, -47.8215,\n",
      "        -48.3081, -48.1781, -47.1185, -46.0947, -49.3444, -48.9968, -49.2649,\n",
      "        -48.5859, -48.5087, -48.1366, -49.1309, -48.9608, -50.5556, -50.5448,\n",
      "        -47.4235, -47.7386, -49.0826, -48.5390, -48.8370, -47.9165, -45.9692,\n",
      "        -45.5562, -48.3659, -48.3740, -48.8188, -49.1244, -48.1252, -47.9563,\n",
      "        -47.3183, -46.9767, -48.9587, -48.2643, -47.4790, -47.2448, -46.1524,\n",
      "        -48.5161, -48.5534, -48.6424, -46.9318, -48.3279, -47.5777, -48.6301,\n",
      "        -47.9389, -48.3013])\n"
     ]
    },
    {
     "data": {
      "image/png": "[encoded data removed]",
      "text/plain": [
       "<Figure size 432x288 with 2 Axes>"
      ]
     },
     "metadata": {
      "needs_background": "light"
     },
     "output_type": "display_data"
    },
    {
     "name": "stdout",
     "output_type": "stream",
     "text": [
      "torch.Size([1, 128, 161])\n",
      "tensor([  0.0000, -15.1840, -12.7553,   0.0000,  -3.0480,  -2.8336,   0.0000,\n",
      "         -4.1217,  -7.3127,  -6.0308,  -5.8270,  -9.4096,  -6.7449,   0.0000,\n",
      "         -4.8563,  -8.1918,  -2.9384,  -4.7435,  -4.0762,  -5.5100,  -4.8544,\n",
      "         -6.5220,  -2.0848,  -4.5557,  -2.7410,  -8.1252,  -6.6960,  -2.2727,\n",
      "         -2.6484,  -0.4729,  -2.4586,  -2.0237,  -3.8846,  -3.3290,  -2.1345,\n",
      "         -0.4330,  -1.6609,  -2.2674,  -3.9449,  -5.7160,  -2.3092,  -1.0750,\n",
      "          0.7523,  -6.6350,   7.2775,   9.8236,  10.5040,   9.4985,   0.7517,\n",
      "          1.1126,  -1.7438,  -0.7611,  -2.6640,  -5.9730,  -7.4541,  -8.7200,\n",
      "         -9.4887,  -4.7224,  -2.8566,  -1.9406,  -2.7132,  -3.6443,  -2.3005,\n",
      "         -3.4360,  -3.1056,  -1.1113,  -0.2011,  -0.9387,  -1.6970,  -2.2338,\n",
      "         -4.6768,  -4.1189,  -4.8943,  -5.1270,  -6.3236,  -6.0092,  -5.0929,\n",
      "         -3.5833,  -3.3312,  -2.3932,  -4.3134,  -3.8714,  -2.7189,  -5.3421,\n",
      "         -5.2547,  -4.4750,  -2.2756,  -4.2412,  -1.5546,  -1.2383,  -0.4236,\n",
      "         -3.6106,  -6.9837,  -6.1778,  -5.8651,  -6.4582,  -5.7230,  -4.5040,\n",
      "         -4.4646,  -4.9248,  -1.7744,  -2.0597,  -6.1009,  -5.1154,  -3.7064,\n",
      "         -3.8554,  -3.2589,  -7.6500,  -4.4718,  -2.5059,  -2.2505,  -2.5362,\n",
      "         -2.6340,   0.0318,  -0.6151,  -0.7158,  -1.6783,   0.2623,  -3.8188,\n",
      "         -2.9116,  -2.2743,  -1.9691,  -3.6689,  -4.8000,  -5.1142,  -3.4916,\n",
      "         -2.4773,  -3.0647])\n"
     ]
    },
    {
     "data": {
      "image/png": "[encoded data removed]",
      "text/plain": [
       "<Figure size 432x288 with 2 Axes>"
      ]
     },
     "metadata": {
      "needs_background": "light"
     },
     "output_type": "display_data"
    },
    {
     "name": "stdout",
     "output_type": "stream",
     "text": [
      "torch.Size([1, 128, 161])\n",
      "tensor([  0.0000,   1.4605,   3.8892,   0.0000,   0.9745,   1.1889,   0.0000,\n",
      "          2.5975,  -0.5934,   3.1080,   3.3117,   1.7786,   4.4432,   0.0000,\n",
      "          2.0500,  -1.2855,   5.4841,   3.6790,   3.9232,   2.4894,   2.0119,\n",
      "          0.3442,   1.1911,  -1.4739, -17.2496,  -8.9907,  -7.5615,   1.9656,\n",
      "          1.5899,   3.6922,   2.5594,   3.3480,   4.5536,   5.9618,   7.3208,\n",
      "          7.7623,   5.8254,  -7.7646,   6.1749,   4.4030,   4.3789,   4.4700,\n",
      "          5.7627,   3.2099,   3.8962,   3.9300,   3.3121,   0.0476,  -0.3123,\n",
      "          0.2993,   0.7784,  -1.7908,  -1.3847,  -0.8456,  -1.1138,   0.7331,\n",
      "          2.7371,   1.8085,  -1.1067,  -5.1692,  -3.5852,  -2.3728,  -2.6959,\n",
      "         -2.3614,  -3.8460,  -2.4989,  -0.1079,  -0.5947,  -0.1752,  -0.8931,\n",
      "         -2.5266,  -2.5071,  -0.3510,  -0.6131,  -0.1173,   2.4309,   1.6161,\n",
      "          0.1226,   0.0963,   0.4846,   1.6281,  -0.5400,  -5.1228,  -4.2901,\n",
      "         -6.4550,  -4.4722,  -1.9909,  -0.7635,  -5.3329,  -2.4164,  -2.5167,\n",
      "         -3.4385,  -1.8322,  -1.0549,  -3.9482,  -5.6881,  -4.4443,  -3.8271,\n",
      "         -2.7904,  -6.1838,  -8.7492,  -7.9488,  -5.6933,  -3.9214,  -6.0879,\n",
      "         -6.3525,  -6.6672,  -6.2133,  -7.6171,  -7.5564,  -8.3260,  -6.6645,\n",
      "         -4.7514,  -2.8145,  -3.4895,  -7.1576,  -6.4524,  -7.7311,  -9.4603,\n",
      "         -8.8118,  -8.6097,  -8.6043,  -8.0572,  -8.4007,  -5.4995,  -8.4953,\n",
      "         -7.4979,  -8.0592])\n"
     ]
    },
    {
     "data": {
      "image/png": "[encoded data removed]",
      "text/plain": [
       "<Figure size 432x288 with 2 Axes>"
      ]
     },
     "metadata": {
      "needs_background": "light"
     },
     "output_type": "display_data"
    }
   ],
   "source": [
    "# print(len(transformed_audio_ds))\n",
    "for i in range(5):\n",
    "    sample = transformed_audio_ds[i]\n",
    "#     print(sample['raw_signal'].size())\n",
    "#     ## plot audio frames\n",
    "#     plt.subplot(121)\n",
    "#     plt.plot(sample['raw_signal'].t().numpy(), 'r--')\n",
    "#     plt.title(\"Audio frames \" + str(i) + \": \" + classes[(sample['label'])])\n",
    "#     ## plot features\n",
    "#     plt.subplot(121)\n",
    "    print(sample['features'].size())\n",
    "    \n",
    "#     new_f = F.softmax(sample['features'], dim=1)  \n",
    "#     print(F.softmax(sample['features'], dim=1)[:,0])\n",
    "    plt.imshow(sample['features'][0,:,:].detach().numpy(), cmap='hot')\n",
    "    plt.title(\"Audio features\" + str(i) + \": \" + classes[(sample['label'])])\n",
    "#     plt.subplot(122)\n",
    "#     sample['features'][sample['features'] == -float('inf')] =  0\n",
    "    print(sample['features'][0,:,0])\n",
    "\n",
    "#     plt.imshow(sample['features'][0,:,:].detach().numpy(), cmap='hot')\n",
    "    plt.colorbar()\n",
    "    plt.show()\n",
    "    "
   ]
  },
  {
   "cell_type": "markdown",
   "metadata": {},
   "source": [
    "### Iterating through dataset using DataLoader"
   ]
  },
  {
   "cell_type": "code",
   "execution_count": 15,
   "metadata": {},
   "outputs": [],
   "source": [
    "# def show_raw_wave_batch(sample_batched):\n",
    "#     batch_size = sample_batched['raw_signal'].size(0)\n",
    "#     for i in range(batch_size):\n",
    "#         plt.plot(sample_batched['raw_signal'][i].t().numpy())\n",
    "#         plt.show()"
   ]
  },
  {
   "cell_type": "code",
   "execution_count": 16,
   "metadata": {},
   "outputs": [],
   "source": [
    "# batch_size = 3\n",
    "# dataloader = DataLoader(transformed_audio_ds, batch_size = batch_size, shuffle =True, num_workers=4)\n",
    "\n",
    "# # for i_batch, sample_batched in enumerate(dataloader):\n",
    "# #     data, label = sample_batched['raw_signal'], sample_batched['label']\n",
    "# #     print(i_batch, data.size(), label)\n",
    "# #     if i_batch == 3 :\n",
    "# #         show_raw_wave_batch(sample_batched)\n",
    "# #         break\n",
    "# dataloader = iter(dataloader)\n",
    "# len(dataloader)\n"
   ]
  },
  {
   "cell_type": "code",
   "execution_count": 17,
   "metadata": {},
   "outputs": [],
   "source": [
    "# sampled_batch = next(dataloader)\n",
    "# print(sampled_batch['label'])"
   ]
  },
  {
   "cell_type": "markdown",
   "metadata": {},
   "source": [
    "### Build model"
   ]
  },
  {
   "cell_type": "code",
   "execution_count": 18,
   "metadata": {},
   "outputs": [],
   "source": [
    "# class Dummy_Conv1D_Net(Module):\n",
    "    \n",
    "#     def __init__(self):\n",
    "#         super(Dummy_Conv1D_Net,self).__init__()\n",
    "        \n",
    "#         self.cnn_layers = Sequential(\n",
    "#             ## First conv bloc\n",
    "#             Conv1d(in_channels=1, out_channels=16, kernel_size=9, padding=0),\n",
    "#             ReLU(inplace=True),\n",
    "#             Conv1d(in_channels=16, out_channels=16, kernel_size=9, padding=0),\n",
    "#             ReLU(inplace=True),\n",
    "#             MaxPool1d(kernel_size=16),\n",
    "#             Dropout(p=0.1),\n",
    "#             Flatten()\n",
    "            \n",
    "#         )\n",
    "        \n",
    "#         self.linear_layers = Sequential(\n",
    "#             Linear(in_features = 16*1999, out_features = 1024),\n",
    "#             Linear(in_features = 1024, out_features = 41)\n",
    "#         )\n",
    "    \n",
    "#     def forward(self,x):\n",
    "#         x = self.cnn_layers(x)\n",
    "# #         x = x.view((x.size(0), -1)) ## Flatten\n",
    "# #         print(x.size())\n",
    "#         x = self.linear_layers(x)\n",
    "#         return x\n",
    "\n",
    "# dummy_model = Dummy_Conv1D_Net()\n",
    "# print(dummy_model)"
   ]
  },
  {
   "cell_type": "code",
   "execution_count": 4,
   "metadata": {},
   "outputs": [
    {
     "name": "stdout",
     "output_type": "stream",
     "text": [
      "Conv2D_Net(\n",
      "  (cnn_bloc_1): Sequential(\n",
      "    (0): Conv2d(1, 32, kernel_size=(4, 10), stride=(1, 1))\n",
      "    (1): ReLU()\n",
      "    (2): BatchNorm2d(32, eps=1e-05, momentum=0.1, affine=True, track_running_stats=True)\n",
      "    (3): MaxPool2d(kernel_size=2, stride=2, padding=0, dilation=1, ceil_mode=False)\n",
      "  )\n",
      "  (cnn_bloc_2): Sequential(\n",
      "    (0): Conv2d(32, 32, kernel_size=(4, 10), stride=(1, 1))\n",
      "    (1): ReLU()\n",
      "    (2): BatchNorm2d(32, eps=1e-05, momentum=0.1, affine=True, track_running_stats=True)\n",
      "    (3): MaxPool2d(kernel_size=2, stride=2, padding=0, dilation=1, ceil_mode=False)\n",
      "  )\n",
      "  (cnn_bloc_3): Sequential(\n",
      "    (0): Conv2d(32, 32, kernel_size=(4, 10), stride=(1, 1))\n",
      "    (1): ReLU()\n",
      "    (2): BatchNorm2d(32, eps=1e-05, momentum=0.1, affine=True, track_running_stats=True)\n",
      "    (3): MaxPool2d(kernel_size=2, stride=2, padding=0, dilation=1, ceil_mode=False)\n",
      "  )\n",
      "  (cnn_bloc_4): Sequential(\n",
      "    (0): Conv2d(32, 32, kernel_size=(4, 10), stride=(1, 1))\n",
      "    (1): ReLU()\n",
      "    (2): BatchNorm2d(32, eps=1e-05, momentum=0.1, affine=True, track_running_stats=True)\n",
      "    (3): MaxPool2d(kernel_size=2, stride=2, padding=0, dilation=1, ceil_mode=False)\n",
      "    (4): Flatten()\n",
      "  )\n",
      "  (linear_layers): Sequential(\n",
      "    (0): Linear(in_features=160, out_features=64, bias=True)\n",
      "    (1): ReLU()\n",
      "    (2): Linear(in_features=64, out_features=41, bias=True)\n",
      "  )\n",
      ")\n"
     ]
    }
   ],
   "source": [
    "class Conv2D_Net(Module):\n",
    "    \n",
    "    def __init__(self):\n",
    "        super(Conv2D_Net,self).__init__()\n",
    "        \n",
    "        self.cnn_bloc_1 = Sequential(\n",
    "            ## First conv bloc\n",
    "            Conv2d(in_channels=1, out_channels=32, kernel_size=(4,10)),\n",
    "            ReLU(),\n",
    "            BatchNorm2d(num_features=32),\n",
    "            MaxPool2d(kernel_size=2)        \n",
    "        )\n",
    "        \n",
    "        self.cnn_bloc_2 = Sequential(\n",
    "            ## second conv bloc\n",
    "            Conv2d(in_channels=32, out_channels=32, kernel_size=(4,10)),\n",
    "            ReLU(),\n",
    "            BatchNorm2d(num_features=32),\n",
    "            MaxPool2d(kernel_size=2)           \n",
    "        )\n",
    "        \n",
    "        self.cnn_bloc_3 = Sequential(\n",
    "            ## Third conv bloc\n",
    "            Conv2d(in_channels=32, out_channels=32, kernel_size=(4,10)),\n",
    "            ReLU(),\n",
    "            BatchNorm2d(num_features=32),\n",
    "            MaxPool2d(kernel_size=2)  \n",
    "        )\n",
    "        \n",
    "        self.cnn_bloc_4 = Sequential(\n",
    "            ## Fourth conv bloc\n",
    "            Conv2d(in_channels=32, out_channels=32, kernel_size=(4,10)),\n",
    "            ReLU(),\n",
    "            BatchNorm2d(num_features=32),\n",
    "            MaxPool2d(kernel_size=2),\n",
    "            Flatten()\n",
    "        )\n",
    "        \n",
    "        self.linear_layers = Sequential(\n",
    "            Linear(in_features = 160, out_features = 64),\n",
    "            ReLU(),\n",
    "#             BatchNorm1d(num_features=64),\n",
    "            Linear(in_features = 64, out_features = 41),\n",
    "#             BatchNorm2d(num_features=41)\n",
    "#             ReLU(),\n",
    "#             Linear(in_features = 1028, out_features = 41)\n",
    "#             LogSoftmax(dim=1)\n",
    "        )\n",
    "    \n",
    "    def forward(self,x):\n",
    "        x = self.cnn_bloc_1(x)\n",
    "        x = self.cnn_bloc_2(x)\n",
    "        x = self.cnn_bloc_3(x)\n",
    "        x = self.cnn_bloc_4(x)\n",
    "        x = self.linear_layers(x)\n",
    "#         x = F.log_softmax(x)\n",
    "        return x\n",
    "\n",
    "conv2d_model = Conv2D_Net()\n",
    "print(conv2d_model)\n",
    "\n",
    "## Define loss function an optimizer\n",
    "# criterion = NLLLoss()\n",
    "criterion = CrossEntropyLoss()\n",
    "optimizer = Adam(conv2d_model.parameters(), lr=0.001) #, weight_decay=1e-5)"
   ]
  },
  {
   "cell_type": "markdown",
   "metadata": {},
   "source": [
    "### TensorBoard setup"
   ]
  },
  {
   "cell_type": "code",
   "execution_count": 5,
   "metadata": {},
   "outputs": [],
   "source": [
    "writer = SummaryWriter('runs/conv2d_audio_test_1')\n",
    "# writer.close()"
   ]
  },
  {
   "cell_type": "markdown",
   "metadata": {},
   "source": [
    "### Train model"
   ]
  },
  {
   "cell_type": "code",
   "execution_count": 6,
   "metadata": {},
   "outputs": [
    {
     "name": "stdout",
     "output_type": "stream",
     "text": [
      "126 23\n"
     ]
    }
   ],
   "source": [
    "train_ds, val_ds = random_split(transformed_audio_ds, [8053,1420])\n",
    "\n",
    "batch_size = 64\n",
    "\n",
    "train_dataloader = DataLoader(train_ds, batch_size = batch_size, shuffle =True)\n",
    "val_dataloader = DataLoader(val_ds, batch_size = batch_size, shuffle =True)\n",
    "train_batches = len(train_dataloader)\n",
    "val_batches = len(val_dataloader)\n",
    "# train_iter  = iter(train_dataloader)\n",
    "# val_iter  = iter(val_dataloader)\n",
    "# data, labels = next(iter(dataloader))\n",
    "print(train_batches, val_batches)"
   ]
  },
  {
   "cell_type": "code",
   "execution_count": 8,
   "metadata": {},
   "outputs": [],
   "source": [
    "# sample = next(train_iter)\n",
    "# sample['label']"
   ]
  },
  {
   "cell_type": "code",
   "execution_count": 9,
   "metadata": {},
   "outputs": [],
   "source": [
    "# for idx, sample in enumerate(train_dataloader):\n",
    "#     print(idx, sample['label'])\n",
    "#     if idx==3:\n",
    "#         break"
   ]
  },
  {
   "cell_type": "code",
   "execution_count": 7,
   "metadata": {
    "scrolled": true
   },
   "outputs": [
    {
     "name": "stdout",
     "output_type": "stream",
     "text": [
      "Start training...\n",
      "Epoch 1/50 :\n"
     ]
    },
    {
     "data": {
      "application/vnd.jupyter.widget-view+json": {
       "model_id": "74bfde4007554d29bb9823010995dfc0",
       "version_major": 2,
       "version_minor": 0
      },
      "text/plain": [
       "HBox(children=(FloatProgress(value=0.0, max=126.0), HTML(value='')))"
      ]
     },
     "metadata": {},
     "output_type": "display_data"
    },
    {
     "name": "stdout",
     "output_type": "stream",
     "text": [
      "Adding model to tensorboard...\n",
      "\n",
      "current_train_loss = 3.04130, current_train_acc = 0.18520\n",
      "Validating...\n",
      "val_loss = 2.53743, val_acc = 0.27468\n",
      "\n",
      "Saving model...\n",
      "\n",
      "================================================================================\n",
      "Epoch 2/50 :\n"
     ]
    },
    {
     "name": "stderr",
     "output_type": "stream",
     "text": [
      "/home/renault/env/lib/python3.5/site-packages/torch/serialization.py:360: UserWarning: Couldn't retrieve source code for container of type Conv2D_Net. It won't be checked for correctness upon loading.\n",
      "  \"type \" + obj.__name__ + \". It won't be checked \"\n"
     ]
    },
    {
     "data": {
      "application/vnd.jupyter.widget-view+json": {
       "model_id": "d415e562e0294259b8d7d32dfa426187",
       "version_major": 2,
       "version_minor": 0
      },
      "text/plain": [
       "HBox(children=(FloatProgress(value=0.0, max=126.0), HTML(value='')))"
      ]
     },
     "metadata": {},
     "output_type": "display_data"
    },
    {
     "name": "stdout",
     "output_type": "stream",
     "text": [
      "current_train_loss = 2.30010, current_train_acc = 0.35319\n",
      "Validating...\n",
      "val_loss = 2.14923, val_acc = 0.39221\n",
      "\n",
      "Saving model...\n",
      "\n",
      "================================================================================\n",
      "Epoch 3/50 :\n"
     ]
    },
    {
     "data": {
      "application/vnd.jupyter.widget-view+json": {
       "model_id": "5be34a06a33643ff9a47f7d78f00a180",
       "version_major": 2,
       "version_minor": 0
      },
      "text/plain": [
       "HBox(children=(FloatProgress(value=0.0, max=126.0), HTML(value='')))"
      ]
     },
     "metadata": {},
     "output_type": "display_data"
    },
    {
     "name": "stdout",
     "output_type": "stream",
     "text": [
      "current_train_loss = 1.94990, current_train_acc = 0.45265\n",
      "Validating...\n",
      "val_loss = 1.88966, val_acc = 0.46626\n",
      "\n",
      "Saving model...\n",
      "\n",
      "================================================================================\n",
      "Epoch 4/50 :\n"
     ]
    },
    {
     "data": {
      "application/vnd.jupyter.widget-view+json": {
       "model_id": "8b761964e3ed443ab5e157acb5393869",
       "version_major": 2,
       "version_minor": 0
      },
      "text/plain": [
       "HBox(children=(FloatProgress(value=0.0, max=126.0), HTML(value='')))"
      ]
     },
     "metadata": {},
     "output_type": "display_data"
    },
    {
     "name": "stdout",
     "output_type": "stream",
     "text": [
      "current_train_loss = 1.76424, current_train_acc = 0.50176\n",
      "Validating...\n",
      "val_loss = 1.70692, val_acc = 0.50838\n",
      "\n",
      "Saving model...\n",
      "\n",
      "================================================================================\n",
      "Epoch 5/50 :\n"
     ]
    },
    {
     "data": {
      "application/vnd.jupyter.widget-view+json": {
       "model_id": "b79c7b1a83b5433cbfbf38a1123da583",
       "version_major": 2,
       "version_minor": 0
      },
      "text/plain": [
       "HBox(children=(FloatProgress(value=0.0, max=126.0), HTML(value='')))"
      ]
     },
     "metadata": {},
     "output_type": "display_data"
    },
    {
     "name": "stdout",
     "output_type": "stream",
     "text": [
      "current_train_loss = 1.64020, current_train_acc = 0.54140\n",
      "Validating...\n",
      "val_loss = 1.60636, val_acc = 0.54937\n",
      "\n",
      "Saving model...\n",
      "\n",
      "================================================================================\n",
      "Epoch 6/50 :\n"
     ]
    },
    {
     "data": {
      "application/vnd.jupyter.widget-view+json": {
       "model_id": "96b0576649de41eba989b2867a75a61c",
       "version_major": 2,
       "version_minor": 0
      },
      "text/plain": [
       "HBox(children=(FloatProgress(value=0.0, max=126.0), HTML(value='')))"
      ]
     },
     "metadata": {},
     "output_type": "display_data"
    },
    {
     "name": "stdout",
     "output_type": "stream",
     "text": [
      "current_train_loss = 1.53451, current_train_acc = 0.57254\n",
      "Validating...\n",
      "val_loss = 1.55991, val_acc = 0.56929\n",
      "\n",
      "Saving model...\n",
      "\n",
      "================================================================================\n",
      "Epoch 7/50 :\n"
     ]
    },
    {
     "data": {
      "application/vnd.jupyter.widget-view+json": {
       "model_id": "a5f5c965cc974d14bde67b92d409da1f",
       "version_major": 2,
       "version_minor": 0
      },
      "text/plain": [
       "HBox(children=(FloatProgress(value=0.0, max=126.0), HTML(value='')))"
      ]
     },
     "metadata": {},
     "output_type": "display_data"
    },
    {
     "name": "stdout",
     "output_type": "stream",
     "text": [
      "current_train_loss = 1.44917, current_train_acc = 0.59110\n",
      "Validating...\n",
      "val_loss = 1.54193, val_acc = 0.56816\n",
      "\n",
      "Saving model...\n",
      "\n",
      "================================================================================\n",
      "Epoch 8/50 :\n"
     ]
    },
    {
     "data": {
      "application/vnd.jupyter.widget-view+json": {
       "model_id": "f4d4442ee80d4d60a2e94ba63d032c67",
       "version_major": 2,
       "version_minor": 0
      },
      "text/plain": [
       "HBox(children=(FloatProgress(value=0.0, max=126.0), HTML(value='')))"
      ]
     },
     "metadata": {},
     "output_type": "display_data"
    },
    {
     "name": "stdout",
     "output_type": "stream",
     "text": [
      "current_train_loss = 1.36452, current_train_acc = 0.61660\n",
      "Validating...\n",
      "val_loss = 1.44782, val_acc = 0.58854\n",
      "\n",
      "Saving model...\n",
      "\n",
      "================================================================================\n",
      "Epoch 9/50 :\n"
     ]
    },
    {
     "data": {
      "application/vnd.jupyter.widget-view+json": {
       "model_id": "c7f44886385b4d1fa1c58b841540a157",
       "version_major": 2,
       "version_minor": 0
      },
      "text/plain": [
       "HBox(children=(FloatProgress(value=0.0, max=126.0), HTML(value='')))"
      ]
     },
     "metadata": {},
     "output_type": "display_data"
    },
    {
     "name": "stdout",
     "output_type": "stream",
     "text": [
      "current_train_loss = 1.34105, current_train_acc = 0.61792\n",
      "Validating...\n",
      "val_loss = 1.45730, val_acc = 0.59851\n",
      "\n",
      "\n",
      "================================================================================\n",
      "Epoch 10/50 :\n"
     ]
    },
    {
     "data": {
      "application/vnd.jupyter.widget-view+json": {
       "model_id": "eebd62ca5fce41b7bfb9a87f07c31d78",
       "version_major": 2,
       "version_minor": 0
      },
      "text/plain": [
       "HBox(children=(FloatProgress(value=0.0, max=126.0), HTML(value='')))"
      ]
     },
     "metadata": {},
     "output_type": "display_data"
    },
    {
     "name": "stdout",
     "output_type": "stream",
     "text": [
      "current_train_loss = 1.29216, current_train_acc = 0.63589\n",
      "Validating...\n",
      "val_loss = 1.41899, val_acc = 0.60462\n",
      "\n",
      "Saving model...\n",
      "\n",
      "================================================================================\n",
      "Epoch 11/50 :\n"
     ]
    },
    {
     "data": {
      "application/vnd.jupyter.widget-view+json": {
       "model_id": "aa52ad06bc6f4a4a9d425546a2cfac92",
       "version_major": 2,
       "version_minor": 0
      },
      "text/plain": [
       "HBox(children=(FloatProgress(value=0.0, max=126.0), HTML(value='')))"
      ]
     },
     "metadata": {},
     "output_type": "display_data"
    },
    {
     "name": "stdout",
     "output_type": "stream",
     "text": [
      "current_train_loss = 1.24228, current_train_acc = 0.65008\n",
      "Validating...\n",
      "val_loss = 1.40976, val_acc = 0.60802\n",
      "\n",
      "Saving model...\n",
      "\n",
      "================================================================================\n",
      "Epoch 12/50 :\n"
     ]
    },
    {
     "data": {
      "application/vnd.jupyter.widget-view+json": {
       "model_id": "eb0061f9d4904adcb5373227e9688f5a",
       "version_major": 2,
       "version_minor": 0
      },
      "text/plain": [
       "HBox(children=(FloatProgress(value=0.0, max=126.0), HTML(value='')))"
      ]
     },
     "metadata": {},
     "output_type": "display_data"
    },
    {
     "name": "stdout",
     "output_type": "stream",
     "text": [
      "current_train_loss = 1.20960, current_train_acc = 0.65737\n",
      "Validating...\n",
      "val_loss = 1.33785, val_acc = 0.64312\n",
      "\n",
      "Saving model...\n",
      "\n",
      "================================================================================\n",
      "Epoch 13/50 :\n"
     ]
    },
    {
     "data": {
      "application/vnd.jupyter.widget-view+json": {
       "model_id": "358ef748cf884ca38652a4a5e7b63873",
       "version_major": 2,
       "version_minor": 0
      },
      "text/plain": [
       "HBox(children=(FloatProgress(value=0.0, max=126.0), HTML(value='')))"
      ]
     },
     "metadata": {},
     "output_type": "display_data"
    },
    {
     "name": "stdout",
     "output_type": "stream",
     "text": [
      "current_train_loss = 1.17083, current_train_acc = 0.66570\n",
      "Validating...\n",
      "val_loss = 1.33387, val_acc = 0.63949\n",
      "\n",
      "Saving model...\n",
      "\n",
      "================================================================================\n",
      "Epoch 14/50 :\n"
     ]
    },
    {
     "data": {
      "application/vnd.jupyter.widget-view+json": {
       "model_id": "5a67f07991f74a789d63a3406ffd5f6d",
       "version_major": 2,
       "version_minor": 0
      },
      "text/plain": [
       "HBox(children=(FloatProgress(value=0.0, max=126.0), HTML(value='')))"
      ]
     },
     "metadata": {},
     "output_type": "display_data"
    },
    {
     "name": "stdout",
     "output_type": "stream",
     "text": [
      "current_train_loss = 1.13992, current_train_acc = 0.67647\n",
      "Validating...\n",
      "val_loss = 1.34203, val_acc = 0.63179\n",
      "\n",
      "\n",
      "================================================================================\n",
      "Epoch 15/50 :\n"
     ]
    },
    {
     "data": {
      "application/vnd.jupyter.widget-view+json": {
       "model_id": "d038b3cbeb2c44c1a2b122f0c2aef24a",
       "version_major": 2,
       "version_minor": 0
      },
      "text/plain": [
       "HBox(children=(FloatProgress(value=0.0, max=126.0), HTML(value='')))"
      ]
     },
     "metadata": {},
     "output_type": "display_data"
    },
    {
     "name": "stdout",
     "output_type": "stream",
     "text": [
      "current_train_loss = 1.10458, current_train_acc = 0.68059\n",
      "Validating...\n",
      "val_loss = 1.34135, val_acc = 0.63383\n",
      "\n",
      "\n",
      "================================================================================\n",
      "Epoch 16/50 :\n"
     ]
    },
    {
     "data": {
      "application/vnd.jupyter.widget-view+json": {
       "model_id": "773b1108076044be97841e3b23e349ed",
       "version_major": 2,
       "version_minor": 0
      },
      "text/plain": [
       "HBox(children=(FloatProgress(value=0.0, max=126.0), HTML(value='')))"
      ]
     },
     "metadata": {},
     "output_type": "display_data"
    },
    {
     "name": "stdout",
     "output_type": "stream",
     "text": [
      "current_train_loss = 1.07777, current_train_acc = 0.69688\n",
      "Validating...\n",
      "val_loss = 1.34368, val_acc = 0.63134\n",
      "\n",
      "\n",
      "================================================================================\n",
      "Epoch 17/50 :\n"
     ]
    },
    {
     "data": {
      "application/vnd.jupyter.widget-view+json": {
       "model_id": "d5afbf99c6524d07b6bd9ad7d0005262",
       "version_major": 2,
       "version_minor": 0
      },
      "text/plain": [
       "HBox(children=(FloatProgress(value=0.0, max=126.0), HTML(value='')))"
      ]
     },
     "metadata": {},
     "output_type": "display_data"
    },
    {
     "name": "stdout",
     "output_type": "stream",
     "text": [
      "current_train_loss = 1.02894, current_train_acc = 0.70770\n",
      "Validating...\n",
      "val_loss = 1.34703, val_acc = 0.63542\n",
      "\n",
      "\n",
      "================================================================================\n",
      "Epoch 18/50 :\n"
     ]
    },
    {
     "data": {
      "application/vnd.jupyter.widget-view+json": {
       "model_id": "019ec85480fe4165a55a964b3b956ac4",
       "version_major": 2,
       "version_minor": 0
      },
      "text/plain": [
       "HBox(children=(FloatProgress(value=0.0, max=126.0), HTML(value='')))"
      ]
     },
     "metadata": {},
     "output_type": "display_data"
    },
    {
     "name": "stdout",
     "output_type": "stream",
     "text": [
      "current_train_loss = 1.03236, current_train_acc = 0.70497\n",
      "Validating...\n",
      "val_loss = 1.28180, val_acc = 0.63881\n",
      "\n",
      "Saving model...\n",
      "\n",
      "================================================================================\n",
      "Epoch 19/50 :\n"
     ]
    },
    {
     "data": {
      "application/vnd.jupyter.widget-view+json": {
       "model_id": "73464cc812274f368f5d66654d158ed9",
       "version_major": 2,
       "version_minor": 0
      },
      "text/plain": [
       "HBox(children=(FloatProgress(value=0.0, max=126.0), HTML(value='')))"
      ]
     },
     "metadata": {},
     "output_type": "display_data"
    },
    {
     "name": "stdout",
     "output_type": "stream",
     "text": [
      "current_train_loss = 1.00238, current_train_acc = 0.71603\n",
      "Validating...\n",
      "val_loss = 1.37042, val_acc = 0.62885\n",
      "\n",
      "\n",
      "================================================================================\n",
      "Epoch 20/50 :\n"
     ]
    },
    {
     "data": {
      "application/vnd.jupyter.widget-view+json": {
       "model_id": "42880b8c775641a09d39555742633016",
       "version_major": 2,
       "version_minor": 0
      },
      "text/plain": [
       "HBox(children=(FloatProgress(value=0.0, max=126.0), HTML(value='')))"
      ]
     },
     "metadata": {},
     "output_type": "display_data"
    },
    {
     "name": "stdout",
     "output_type": "stream",
     "text": [
      "current_train_loss = 0.99064, current_train_acc = 0.72084\n",
      "Validating...\n",
      "val_loss = 1.27886, val_acc = 0.67006\n",
      "\n",
      "Saving model...\n",
      "\n",
      "================================================================================\n",
      "Epoch 21/50 :\n"
     ]
    },
    {
     "data": {
      "application/vnd.jupyter.widget-view+json": {
       "model_id": "9266c85e43b648b5940e51c758434d5e",
       "version_major": 2,
       "version_minor": 0
      },
      "text/plain": [
       "HBox(children=(FloatProgress(value=0.0, max=126.0), HTML(value='')))"
      ]
     },
     "metadata": {},
     "output_type": "display_data"
    },
    {
     "name": "stdout",
     "output_type": "stream",
     "text": [
      "current_train_loss = 0.96188, current_train_acc = 0.72238\n",
      "Validating...\n",
      "val_loss = 1.26328, val_acc = 0.65285\n",
      "\n",
      "Saving model...\n",
      "\n",
      "================================================================================\n",
      "Epoch 22/50 :\n"
     ]
    },
    {
     "data": {
      "application/vnd.jupyter.widget-view+json": {
       "model_id": "751795c99bdb4b5999b62034bf901292",
       "version_major": 2,
       "version_minor": 0
      },
      "text/plain": [
       "HBox(children=(FloatProgress(value=0.0, max=126.0), HTML(value='')))"
      ]
     },
     "metadata": {},
     "output_type": "display_data"
    },
    {
     "name": "stdout",
     "output_type": "stream",
     "text": [
      "current_train_loss = 0.95870, current_train_acc = 0.72871\n",
      "Validating...\n",
      "val_loss = 1.35482, val_acc = 0.63927\n",
      "\n",
      "\n",
      "================================================================================\n",
      "Epoch 23/50 :\n"
     ]
    },
    {
     "data": {
      "application/vnd.jupyter.widget-view+json": {
       "model_id": "07fc626728704a29831be5c501afd452",
       "version_major": 2,
       "version_minor": 0
      },
      "text/plain": [
       "HBox(children=(FloatProgress(value=0.0, max=126.0), HTML(value='')))"
      ]
     },
     "metadata": {},
     "output_type": "display_data"
    },
    {
     "name": "stdout",
     "output_type": "stream",
     "text": [
      "current_train_loss = 0.93851, current_train_acc = 0.73096\n",
      "Validating...\n",
      "val_loss = 1.27457, val_acc = 0.64040\n",
      "\n",
      "\n",
      "================================================================================\n",
      "Epoch 24/50 :\n"
     ]
    },
    {
     "data": {
      "application/vnd.jupyter.widget-view+json": {
       "model_id": "724faca2ca51486ea19c977b0233dd18",
       "version_major": 2,
       "version_minor": 0
      },
      "text/plain": [
       "HBox(children=(FloatProgress(value=0.0, max=126.0), HTML(value='')))"
      ]
     },
     "metadata": {},
     "output_type": "display_data"
    },
    {
     "name": "stdout",
     "output_type": "stream",
     "text": [
      "current_train_loss = 0.92783, current_train_acc = 0.73606\n",
      "Validating...\n",
      "val_loss = 1.29297, val_acc = 0.65376\n",
      "\n",
      "\n",
      "================================================================================\n",
      "Epoch 25/50 :\n"
     ]
    },
    {
     "data": {
      "application/vnd.jupyter.widget-view+json": {
       "model_id": "deb366e6005f40c999cb72bea305f761",
       "version_major": 2,
       "version_minor": 0
      },
      "text/plain": [
       "HBox(children=(FloatProgress(value=0.0, max=126.0), HTML(value='')))"
      ]
     },
     "metadata": {},
     "output_type": "display_data"
    },
    {
     "name": "stdout",
     "output_type": "stream",
     "text": [
      "current_train_loss = 0.91644, current_train_acc = 0.73707\n",
      "Validating...\n",
      "val_loss = 1.54075, val_acc = 0.59488\n",
      "\n",
      "\n",
      "================================================================================\n",
      "Epoch 26/50 :\n"
     ]
    },
    {
     "data": {
      "application/vnd.jupyter.widget-view+json": {
       "model_id": "30756a41741241389b178a628c1d8e22",
       "version_major": 2,
       "version_minor": 0
      },
      "text/plain": [
       "HBox(children=(FloatProgress(value=0.0, max=126.0), HTML(value='')))"
      ]
     },
     "metadata": {},
     "output_type": "display_data"
    },
    {
     "name": "stdout",
     "output_type": "stream",
     "text": [
      "current_train_loss = 0.90350, current_train_acc = 0.74585\n",
      "Validating...\n",
      "val_loss = 1.28573, val_acc = 0.65716\n",
      "\n",
      "\n",
      "================================================================================\n",
      "Epoch 27/50 :\n"
     ]
    },
    {
     "data": {
      "application/vnd.jupyter.widget-view+json": {
       "model_id": "f5b1f02a906045aeb1847c0173c3f3e3",
       "version_major": 2,
       "version_minor": 0
      },
      "text/plain": [
       "HBox(children=(FloatProgress(value=0.0, max=126.0), HTML(value='')))"
      ]
     },
     "metadata": {},
     "output_type": "display_data"
    },
    {
     "name": "stdout",
     "output_type": "stream",
     "text": [
      "current_train_loss = 0.87545, current_train_acc = 0.74751\n",
      "Validating...\n",
      "val_loss = 1.28069, val_acc = 0.66010\n",
      "\n",
      "\n",
      "================================================================================\n",
      "Epoch 28/50 :\n"
     ]
    },
    {
     "data": {
      "application/vnd.jupyter.widget-view+json": {
       "model_id": "65a170d089d9438e8512434c943e4467",
       "version_major": 2,
       "version_minor": 0
      },
      "text/plain": [
       "HBox(children=(FloatProgress(value=0.0, max=126.0), HTML(value='')))"
      ]
     },
     "metadata": {},
     "output_type": "display_data"
    },
    {
     "name": "stdout",
     "output_type": "stream",
     "text": [
      "current_train_loss = 0.87187, current_train_acc = 0.75696\n",
      "Validating...\n",
      "val_loss = 1.25774, val_acc = 0.66078\n",
      "\n",
      "Saving model...\n",
      "\n",
      "================================================================================\n",
      "Epoch 29/50 :\n"
     ]
    },
    {
     "data": {
      "application/vnd.jupyter.widget-view+json": {
       "model_id": "4169a5142f534878ab700538a6a6a1b9",
       "version_major": 2,
       "version_minor": 0
      },
      "text/plain": [
       "HBox(children=(FloatProgress(value=0.0, max=126.0), HTML(value='')))"
      ]
     },
     "metadata": {},
     "output_type": "display_data"
    },
    {
     "name": "stdout",
     "output_type": "stream",
     "text": [
      "current_train_loss = 0.84557, current_train_acc = 0.75693\n",
      "Validating...\n",
      "val_loss = 1.29840, val_acc = 0.66486\n",
      "\n",
      "\n",
      "================================================================================\n",
      "Epoch 30/50 :\n"
     ]
    },
    {
     "data": {
      "application/vnd.jupyter.widget-view+json": {
       "model_id": "8a5e89d11a364e4ba6e6232c39783e6b",
       "version_major": 2,
       "version_minor": 0
      },
      "text/plain": [
       "HBox(children=(FloatProgress(value=0.0, max=126.0), HTML(value='')))"
      ]
     },
     "metadata": {},
     "output_type": "display_data"
    },
    {
     "name": "stdout",
     "output_type": "stream",
     "text": [
      "current_train_loss = 0.83718, current_train_acc = 0.76479\n",
      "Validating...\n",
      "val_loss = 1.24991, val_acc = 0.66440\n",
      "\n",
      "Saving model...\n",
      "\n",
      "================================================================================\n",
      "Epoch 31/50 :\n"
     ]
    },
    {
     "data": {
      "application/vnd.jupyter.widget-view+json": {
       "model_id": "ba806081da68458fbbcc837b5f78bab2",
       "version_major": 2,
       "version_minor": 0
      },
      "text/plain": [
       "HBox(children=(FloatProgress(value=0.0, max=126.0), HTML(value='')))"
      ]
     },
     "metadata": {},
     "output_type": "display_data"
    },
    {
     "name": "stdout",
     "output_type": "stream",
     "text": [
      "current_train_loss = 0.83803, current_train_acc = 0.76303\n",
      "Validating...\n",
      "val_loss = 1.24186, val_acc = 0.67595\n",
      "\n",
      "Saving model...\n",
      "\n",
      "================================================================================\n",
      "Epoch 32/50 :\n"
     ]
    },
    {
     "data": {
      "application/vnd.jupyter.widget-view+json": {
       "model_id": "2c698dfdf3c3460e85599c2e3039a3e8",
       "version_major": 2,
       "version_minor": 0
      },
      "text/plain": [
       "HBox(children=(FloatProgress(value=0.0, max=126.0), HTML(value='')))"
      ]
     },
     "metadata": {},
     "output_type": "display_data"
    },
    {
     "name": "stdout",
     "output_type": "stream",
     "text": [
      "current_train_loss = 0.81363, current_train_acc = 0.76847\n",
      "Validating...\n",
      "val_loss = 1.28312, val_acc = 0.64968\n",
      "\n",
      "\n",
      "================================================================================\n",
      "Epoch 33/50 :\n"
     ]
    },
    {
     "data": {
      "application/vnd.jupyter.widget-view+json": {
       "model_id": "50260e8105d0405a9bb92badea0a06c9",
       "version_major": 2,
       "version_minor": 0
      },
      "text/plain": [
       "HBox(children=(FloatProgress(value=0.0, max=126.0), HTML(value='')))"
      ]
     },
     "metadata": {},
     "output_type": "display_data"
    },
    {
     "name": "stdout",
     "output_type": "stream",
     "text": [
      "current_train_loss = 0.79185, current_train_acc = 0.77588\n",
      "Validating...\n",
      "val_loss = 1.26036, val_acc = 0.67527\n",
      "\n",
      "\n",
      "================================================================================\n",
      "Epoch 34/50 :\n"
     ]
    },
    {
     "data": {
      "application/vnd.jupyter.widget-view+json": {
       "model_id": "5cbbb326f8af4099a017be00808fa809",
       "version_major": 2,
       "version_minor": 0
      },
      "text/plain": [
       "HBox(children=(FloatProgress(value=0.0, max=126.0), HTML(value='')))"
      ]
     },
     "metadata": {},
     "output_type": "display_data"
    },
    {
     "name": "stdout",
     "output_type": "stream",
     "text": [
      "current_train_loss = 0.78447, current_train_acc = 0.78151\n",
      "Validating...\n",
      "val_loss = 1.28103, val_acc = 0.66689\n",
      "\n",
      "\n",
      "================================================================================\n",
      "Epoch 35/50 :\n"
     ]
    },
    {
     "data": {
      "application/vnd.jupyter.widget-view+json": {
       "model_id": "e39c0b8ee75b4062b533c196aeff1532",
       "version_major": 2,
       "version_minor": 0
      },
      "text/plain": [
       "HBox(children=(FloatProgress(value=0.0, max=126.0), HTML(value='')))"
      ]
     },
     "metadata": {},
     "output_type": "display_data"
    },
    {
     "name": "stdout",
     "output_type": "stream",
     "text": [
      "current_train_loss = 0.79218, current_train_acc = 0.77117\n",
      "Validating...\n",
      "val_loss = 1.35237, val_acc = 0.65919\n",
      "\n",
      "\n",
      "================================================================================\n",
      "Epoch 36/50 :\n"
     ]
    },
    {
     "data": {
      "application/vnd.jupyter.widget-view+json": {
       "model_id": "9c740e01fa5e4740a15d787705370707",
       "version_major": 2,
       "version_minor": 0
      },
      "text/plain": [
       "HBox(children=(FloatProgress(value=0.0, max=126.0), HTML(value='')))"
      ]
     },
     "metadata": {},
     "output_type": "display_data"
    },
    {
     "name": "stdout",
     "output_type": "stream",
     "text": [
      "current_train_loss = 0.77675, current_train_acc = 0.77908\n",
      "Validating...\n",
      "val_loss = 1.26634, val_acc = 0.68025\n",
      "\n",
      "\n",
      "================================================================================\n",
      "Epoch 37/50 :\n"
     ]
    },
    {
     "data": {
      "application/vnd.jupyter.widget-view+json": {
       "model_id": "7117003b25634c888c50e2b12d94330d",
       "version_major": 2,
       "version_minor": 0
      },
      "text/plain": [
       "HBox(children=(FloatProgress(value=0.0, max=126.0), HTML(value='')))"
      ]
     },
     "metadata": {},
     "output_type": "display_data"
    },
    {
     "name": "stdout",
     "output_type": "stream",
     "text": [
      "current_train_loss = 0.74052, current_train_acc = 0.79125\n",
      "Validating...\n",
      "val_loss = 1.34713, val_acc = 0.66214\n",
      "\n",
      "\n",
      "================================================================================\n",
      "Epoch 38/50 :\n"
     ]
    },
    {
     "data": {
      "application/vnd.jupyter.widget-view+json": {
       "model_id": "6ecf869d76844b348fc24bfd66e05a8d",
       "version_major": 2,
       "version_minor": 0
      },
      "text/plain": [
       "HBox(children=(FloatProgress(value=0.0, max=126.0), HTML(value='')))"
      ]
     },
     "metadata": {},
     "output_type": "display_data"
    },
    {
     "name": "stdout",
     "output_type": "stream",
     "text": [
      "current_train_loss = 0.75469, current_train_acc = 0.78925\n",
      "Validating...\n",
      "val_loss = 1.24382, val_acc = 0.68048\n",
      "\n",
      "\n",
      "================================================================================\n",
      "Epoch 39/50 :\n"
     ]
    },
    {
     "data": {
      "application/vnd.jupyter.widget-view+json": {
       "model_id": "1f0f9ced31b14160b4fd67561fd83f07",
       "version_major": 2,
       "version_minor": 0
      },
      "text/plain": [
       "HBox(children=(FloatProgress(value=0.0, max=126.0), HTML(value='')))"
      ]
     },
     "metadata": {},
     "output_type": "display_data"
    },
    {
     "name": "stdout",
     "output_type": "stream",
     "text": [
      "current_train_loss = 0.73072, current_train_acc = 0.79074\n",
      "Validating...\n",
      "val_loss = 1.32606, val_acc = 0.66236\n",
      "\n",
      "\n",
      "================================================================================\n",
      "Epoch 40/50 :\n"
     ]
    },
    {
     "data": {
      "application/vnd.jupyter.widget-view+json": {
       "model_id": "b340255b83ed43009257a4aa58600c71",
       "version_major": 2,
       "version_minor": 0
      },
      "text/plain": [
       "HBox(children=(FloatProgress(value=0.0, max=126.0), HTML(value='')))"
      ]
     },
     "metadata": {},
     "output_type": "display_data"
    },
    {
     "name": "stdout",
     "output_type": "stream",
     "text": [
      "current_train_loss = 0.73466, current_train_acc = 0.78647\n",
      "Validating...\n",
      "val_loss = 1.20152, val_acc = 0.68478\n",
      "\n",
      "Saving model...\n",
      "\n",
      "================================================================================\n",
      "Epoch 41/50 :\n"
     ]
    },
    {
     "data": {
      "application/vnd.jupyter.widget-view+json": {
       "model_id": "aa560614a23e44779dd5706853a47a95",
       "version_major": 2,
       "version_minor": 0
      },
      "text/plain": [
       "HBox(children=(FloatProgress(value=0.0, max=126.0), HTML(value='')))"
      ]
     },
     "metadata": {},
     "output_type": "display_data"
    },
    {
     "name": "stdout",
     "output_type": "stream",
     "text": [
      "current_train_loss = 0.72499, current_train_acc = 0.79471\n",
      "Validating...\n",
      "val_loss = 1.28505, val_acc = 0.67776\n",
      "\n",
      "\n",
      "================================================================================\n",
      "Epoch 42/50 :\n"
     ]
    },
    {
     "data": {
      "application/vnd.jupyter.widget-view+json": {
       "model_id": "20a2ca21306044818fa5224ee3b0dcf5",
       "version_major": 2,
       "version_minor": 0
      },
      "text/plain": [
       "HBox(children=(FloatProgress(value=0.0, max=126.0), HTML(value='')))"
      ]
     },
     "metadata": {},
     "output_type": "display_data"
    },
    {
     "name": "stdout",
     "output_type": "stream",
     "text": [
      "current_train_loss = 0.70998, current_train_acc = 0.79200\n",
      "Validating...\n",
      "val_loss = 1.29291, val_acc = 0.66327\n",
      "\n",
      "\n",
      "================================================================================\n",
      "Epoch 43/50 :\n"
     ]
    },
    {
     "data": {
      "application/vnd.jupyter.widget-view+json": {
       "model_id": "cd81c7df3be2452dbab172b58cafc28a",
       "version_major": 2,
       "version_minor": 0
      },
      "text/plain": [
       "HBox(children=(FloatProgress(value=0.0, max=126.0), HTML(value='')))"
      ]
     },
     "metadata": {},
     "output_type": "display_data"
    },
    {
     "name": "stdout",
     "output_type": "stream",
     "text": [
      "current_train_loss = 0.71087, current_train_acc = 0.80429\n",
      "Validating...\n",
      "val_loss = 1.30744, val_acc = 0.67482\n",
      "\n",
      "\n",
      "================================================================================\n",
      "Epoch 44/50 :\n"
     ]
    },
    {
     "data": {
      "application/vnd.jupyter.widget-view+json": {
       "model_id": "3f303132d0d34425a3bc6696f63597be",
       "version_major": 2,
       "version_minor": 0
      },
      "text/plain": [
       "HBox(children=(FloatProgress(value=0.0, max=126.0), HTML(value='')))"
      ]
     },
     "metadata": {},
     "output_type": "display_data"
    },
    {
     "name": "stdout",
     "output_type": "stream",
     "text": [
      "current_train_loss = 0.71521, current_train_acc = 0.79801\n",
      "Validating...\n",
      "val_loss = 1.31456, val_acc = 0.66803\n",
      "\n",
      "\n",
      "================================================================================\n",
      "Epoch 45/50 :\n"
     ]
    },
    {
     "data": {
      "application/vnd.jupyter.widget-view+json": {
       "model_id": "73b9e1cacf0a4ec2b21ae86f2055f4ac",
       "version_major": 2,
       "version_minor": 0
      },
      "text/plain": [
       "HBox(children=(FloatProgress(value=0.0, max=126.0), HTML(value='')))"
      ]
     },
     "metadata": {},
     "output_type": "display_data"
    },
    {
     "name": "stdout",
     "output_type": "stream",
     "text": [
      "current_train_loss = 0.71055, current_train_acc = 0.79909\n",
      "Validating...\n",
      "val_loss = 1.25849, val_acc = 0.68139\n",
      "\n",
      "\n",
      "================================================================================\n",
      "Epoch 46/50 :\n"
     ]
    },
    {
     "data": {
      "application/vnd.jupyter.widget-view+json": {
       "model_id": "5f431a9069f0430f8612e9ba491e6d83",
       "version_major": 2,
       "version_minor": 0
      },
      "text/plain": [
       "HBox(children=(FloatProgress(value=0.0, max=126.0), HTML(value='')))"
      ]
     },
     "metadata": {},
     "output_type": "display_data"
    },
    {
     "name": "stdout",
     "output_type": "stream",
     "text": [
      "current_train_loss = 0.68990, current_train_acc = 0.80510\n",
      "Validating...\n",
      "val_loss = 1.31396, val_acc = 0.65942\n",
      "\n",
      "\n",
      "================================================================================\n",
      "Epoch 47/50 :\n"
     ]
    },
    {
     "data": {
      "application/vnd.jupyter.widget-view+json": {
       "model_id": "a19ba5cb0cac4e92ab73cf11a12bd935",
       "version_major": 2,
       "version_minor": 0
      },
      "text/plain": [
       "HBox(children=(FloatProgress(value=0.0, max=126.0), HTML(value='')))"
      ]
     },
     "metadata": {},
     "output_type": "display_data"
    },
    {
     "name": "stdout",
     "output_type": "stream",
     "text": [
      "current_train_loss = 0.69334, current_train_acc = 0.80342\n",
      "Validating...\n",
      "val_loss = 1.36413, val_acc = 0.65965\n",
      "\n",
      "\n",
      "================================================================================\n",
      "Epoch 48/50 :\n"
     ]
    },
    {
     "data": {
      "application/vnd.jupyter.widget-view+json": {
       "model_id": "2708334e120a401584a1eb7024a1b725",
       "version_major": 2,
       "version_minor": 0
      },
      "text/plain": [
       "HBox(children=(FloatProgress(value=0.0, max=126.0), HTML(value='')))"
      ]
     },
     "metadata": {},
     "output_type": "display_data"
    },
    {
     "name": "stdout",
     "output_type": "stream",
     "text": [
      "current_train_loss = 0.65671, current_train_acc = 0.81178\n",
      "Validating...\n",
      "val_loss = 1.30484, val_acc = 0.67822\n",
      "\n",
      "\n",
      "================================================================================\n",
      "Epoch 49/50 :\n"
     ]
    },
    {
     "data": {
      "application/vnd.jupyter.widget-view+json": {
       "model_id": "f65ca0ef7cd7454b9981dabeefec1df2",
       "version_major": 2,
       "version_minor": 0
      },
      "text/plain": [
       "HBox(children=(FloatProgress(value=0.0, max=126.0), HTML(value='')))"
      ]
     },
     "metadata": {},
     "output_type": "display_data"
    },
    {
     "name": "stdout",
     "output_type": "stream",
     "text": [
      "current_train_loss = 0.67658, current_train_acc = 0.81175\n",
      "Validating...\n",
      "val_loss = 1.43655, val_acc = 0.65580\n",
      "\n",
      "\n",
      "================================================================================\n",
      "Epoch 50/50 :\n"
     ]
    },
    {
     "data": {
      "application/vnd.jupyter.widget-view+json": {
       "model_id": "37de01939b354b7897bbc9a81990602c",
       "version_major": 2,
       "version_minor": 0
      },
      "text/plain": [
       "HBox(children=(FloatProgress(value=0.0, max=126.0), HTML(value='')))"
      ]
     },
     "metadata": {},
     "output_type": "display_data"
    },
    {
     "name": "stdout",
     "output_type": "stream",
     "text": [
      "current_train_loss = 0.67880, current_train_acc = 0.80619\n",
      "Validating...\n",
      "val_loss = 1.37430, val_acc = 0.65919\n",
      "\n",
      "\n",
      "================================================================================\n",
      "Finish training.\n"
     ]
    }
   ],
   "source": [
    "## Train model\n",
    "\n",
    "# print(\"Adding model to tensorboard\")\n",
    "# sample_batched = next(train_dataloader)\n",
    "# data, label = sample_batched['raw_signal'], sample_batched['label']\n",
    "# writer.add_graph(conv1d_model, data)\n",
    "\n",
    "model_added =  False \n",
    "num_epochs = 50\n",
    "n_iter = 0\n",
    "best_acc_loss = np.inf\n",
    "checkpoint = train_batches\n",
    "\n",
    "print(\"Start training...\")\n",
    "for epoch in range(num_epochs):\n",
    "    train_losses = []\n",
    "    train_accs = []\n",
    "    val_losses = []\n",
    "    val_accs  = []\n",
    "\n",
    "#     train_iter  = iter(train_dataloader)\n",
    "#     val_iter  = iter(val_dataloader)\n",
    "    \n",
    "    print('Epoch %d/%d :' %(epoch +1, num_epochs))\n",
    "#     print('[Training phase] : ', end='')\n",
    "    \n",
    "    for i_batch, sample_batched in tqdm.notebook.tqdm(enumerate(train_dataloader), total=train_batches):\n",
    "#         sample_batched = next(train_iter)\n",
    "        n_iter += 1\n",
    "        data, label = sample_batched['features'], sample_batched['label']\n",
    "        if not model_added:\n",
    "            print(\"Adding model to tensorboard...\\n\")\n",
    "            writer.add_graph(conv2d_model, data)\n",
    "            model_added = True\n",
    "            \n",
    "#         conv1d_model.train()\n",
    "        \n",
    "        ## forward + backward + optimize\n",
    "        outputs = conv2d_model(data)\n",
    "        loss = criterion(outputs, label)\n",
    "#         with autograd.detect_anomaly():\n",
    "        loss.backward()\n",
    "#         conv2d_model.float()\n",
    "#         torch.nn.utils.clip_grad_norm_(conv2d_model.parameters(),0.5)\n",
    "\n",
    "        optimizer.step()\n",
    "        optimizer.zero_grad()\n",
    "        \n",
    "        ## compute statistics\n",
    "        running_loss = loss.item()\n",
    "        _, y_pred = torch.max(F.softmax(outputs, dim=1),1)\n",
    "#         _, y_pred = torch.max(outputs.data,1)\n",
    "\n",
    "#         print(y_pred, \"vs \",label)\n",
    "        correct = (y_pred == label).sum().item()\n",
    "        running_acc = correct/label.size(0)\n",
    "        \n",
    "        \n",
    "        train_losses.append(running_loss)\n",
    "        train_accs.append(running_acc)\n",
    "        \n",
    "        sys.stdout.write(\"\\rcurrent_train_loss = %.5f, current_train_acc = %.5f\" \n",
    "                         % (np.mean(train_losses), np.mean(train_accs)))\n",
    "        sys.stdout.flush()\n",
    "\n",
    "        #=======================\n",
    "        # print every a number n iterations + validate model\n",
    "        #=======================        \n",
    "        if n_iter % checkpoint == 0:\n",
    "            train_loss = np.mean(train_losses)\n",
    "            train_acc = np.mean(train_accs)\n",
    "        \n",
    "            writer.add_scalar('train/loss', train_loss, n_iter)\n",
    "            writer.add_scalar('train/acc', train_acc, n_iter)\n",
    "                    \n",
    "            ## valid model\n",
    "#             print(\"[Validating phase] :\", end ='')\n",
    "            print('\\nValidating...')\n",
    "            conv2d_model.eval()\n",
    "            with torch.no_grad():\n",
    "                for id_val_batch, val_batched in enumerate(val_dataloader):\n",
    "        #             val_batched = next(val_iter)\n",
    "                    val_data, val_label = val_batched['features'], val_batched['label']\n",
    "#                     conv1d_model.eval()\n",
    "                    val_outputs = conv2d_model(val_data)\n",
    "                    val_loss = criterion(val_outputs, val_label).item()\n",
    "                    _, val_pred = torch.max(F.softmax(val_outputs, dim=1),1)\n",
    "#                     _, val_pred = torch.max(val_outputs.data, 1)\n",
    "                    val_correct = (val_pred == val_label).sum().item()\n",
    "                    val_acc = val_correct / val_label.size(0)\n",
    "\n",
    "#                     sys.stdout.write(\"\\r val_loss = %.5f,  val_acc = %.5f\" % (val_loss, val_acc))\n",
    "#                     sys.stdout.flush()\n",
    "\n",
    "                    val_losses.append(val_loss)\n",
    "                    val_accs.append(val_acc)\n",
    "                \n",
    "            val_loss = np.mean(val_losses)\n",
    "            val_acc  = np.mean(val_accs)\n",
    "#             print('val_loss = %.5f, val_acc = %.5f' % (val_loss, val_acc))\n",
    "            writer.add_scalar('val/loss', val_loss, n_iter)\n",
    "            writer.add_scalar('val/acc', val_acc, n_iter)\n",
    "\n",
    "            print(\"val_loss = %.5f, val_acc = %.5f\\n\" \n",
    "                             % (val_loss, val_acc))\n",
    "#             sys.stdout.flush()\n",
    "            if val_loss < best_acc_loss : \n",
    "                best_acc_loss = val_loss\n",
    "                sys.stdout.write(\"Saving model...\\n\")\n",
    "                torch.save(conv2d_model, 'conv2d_test.pt')\n",
    "                \n",
    "            conv2d_model.train()\n",
    "            train_losses = []\n",
    "            train_accs = []\n",
    "            val_losses = []\n",
    "            val_accs  = []\n",
    "            \n",
    "#     writer.add_scalar('train/loss', train_loss, epoch)\n",
    "#     writer.add_scalar('train/acc', train_acc, epoch)\n",
    "#     writer.add_scalar('val/loss', val_loss, epoch)\n",
    "#     writer.add_scalar('val/acc', val_acc, epoch)\n",
    "    \n",
    "    print(\"=\" * 80 )\n",
    "    \n",
    "print(\"Finish training.\")\n",
    "writer.close()"
   ]
  },
  {
   "cell_type": "code",
   "execution_count": null,
   "metadata": {},
   "outputs": [],
   "source": [
    "# x =  0\n",
    "# for i_batch, sample in tqdm.notebook.tqdm(enumerate(train_dataloader), total=len(train_dataloader)):\n",
    "#     label = sample['label']\n",
    "#     print(label)"
   ]
  },
  {
   "cell_type": "code",
   "execution_count": null,
   "metadata": {},
   "outputs": [],
   "source": [
    "torch.cuda.is_available()"
   ]
  },
  {
   "cell_type": "code",
   "execution_count": null,
   "metadata": {},
   "outputs": [],
   "source": []
  },
  {
   "cell_type": "code",
   "execution_count": null,
   "metadata": {},
   "outputs": [],
   "source": []
  }
 ],
 "metadata": {
  "kernelspec": {
   "display_name": "Python 3",
   "language": "python",
   "name": "python3"
  },
  "language_info": {
   "codemirror_mode": {
    "name": "ipython",
    "version": 3
   },
   "file_extension": ".py",
   "mimetype": "text/x-python",
   "name": "python",
   "nbconvert_exporter": "python",
   "pygments_lexer": "ipython3",
   "version": "3.5.2"
  }
 },
 "nbformat": 4,
 "nbformat_minor": 2
}
